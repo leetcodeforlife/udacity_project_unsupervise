{
 "cells": [
  {
   "cell_type": "markdown",
   "metadata": {},
   "source": [
    "# Project: Identify Customer Segments\n",
    "\n",
    "In this project, you will apply unsupervised learning techniques to identify segments of the population that form the core customer base for a mail-order sales company in Germany. These segments can then be used to direct marketing campaigns towards audiences that will have the highest expected rate of returns. The data that you will use has been provided by our partners at Bertelsmann Arvato Analytics, and represents a real-life data science task.\n",
    "\n",
    "This notebook will help you complete this task by providing a framework within which you will perform your analysis steps. In each step of the project, you will see some text describing the subtask that you will perform, followed by one or more code cells for you to complete your work. **Feel free to add additional code and markdown cells as you go along so that you can explore everything in precise chunks.** The code cells provided in the base template will outline only the major tasks, and will usually not be enough to cover all of the minor tasks that comprise it.\n",
    "\n",
    "It should be noted that while there will be precise guidelines on how you should handle certain tasks in the project, there will also be places where an exact specification is not provided. **There will be times in the project where you will need to make and justify your own decisions on how to treat the data.** These are places where there may not be only one way to handle the data. In real-life tasks, there may be many valid ways to approach an analysis task. One of the most important things you can do is clearly document your approach so that other scientists can understand the decisions you've made.\n",
    "\n",
    "At the end of most sections, there will be a Markdown cell labeled **Discussion**. In these cells, you will report your findings for the completed section, as well as document the decisions that you made in your approach to each subtask. **Your project will be evaluated not just on the code used to complete the tasks outlined, but also your communication about your observations and conclusions at each stage.**"
   ]
  },
  {
   "cell_type": "code",
   "execution_count": 1,
   "metadata": {},
   "outputs": [],
   "source": [
    "# import libraries here; add more as necessary\n",
    "import numpy as np\n",
    "import pandas as pd\n",
    "import matplotlib.pyplot as plt\n",
    "import seaborn as sns\n",
    "from sklearn.preprocessing import StandardScaler \n",
    "from sklearn.decomposition import PCA\n",
    "from sklearn.cluster import KMeans\n",
    "# magic word for producing visualizations in notebook\n",
    "%matplotlib inline"
   ]
  },
  {
   "cell_type": "markdown",
   "metadata": {},
   "source": [
    "### Step 0: Load the Data\n",
    "\n",
    "There are four files associated with this project (not including this one):\n",
    "\n",
    "- `Udacity_AZDIAS_Subset.csv`: Demographics data for the general population of Germany; 891211 persons (rows) x 85 features (columns).\n",
    "- `Udacity_CUSTOMERS_Subset.csv`: Demographics data for customers of a mail-order company; 191652 persons (rows) x 85 features (columns).\n",
    "- `Data_Dictionary.md`: Detailed information file about the features in the provided datasets.\n",
    "- `AZDIAS_Feature_Summary.csv`: Summary of feature attributes for demographics data; 85 features (rows) x 4 columns\n",
    "\n",
    "Each row of the demographics files represents a single person, but also includes information outside of individuals, including information about their household, building, and neighborhood. You will use this information to cluster the general population into groups with similar demographic properties. Then, you will see how the people in the customers dataset fit into those created clusters. The hope here is that certain clusters are over-represented in the customers data, as compared to the general population; those over-represented clusters will be assumed to be part of the core userbase. This information can then be used for further applications, such as targeting for a marketing campaign.\n",
    "\n",
    "To start off with, load in the demographics data for the general population into a pandas DataFrame, and do the same for the feature attributes summary. Note for all of the `.csv` data files in this project: they're semicolon (`;`) delimited, so you'll need an additional argument in your [`read_csv()`](https://pandas.pydata.org/pandas-docs/stable/generated/pandas.read_csv.html) call to read in the data properly. Also, considering the size of the main dataset, it may take some time for it to load completely.\n",
    "\n",
    "Once the dataset is loaded, it's recommended that you take a little bit of time just browsing the general structure of the dataset and feature summary file. You'll be getting deep into the innards of the cleaning in the first major step of the project, so gaining some general familiarity can help you get your bearings."
   ]
  },
  {
   "cell_type": "code",
   "execution_count": 2,
   "metadata": {},
   "outputs": [],
   "source": [
    "# Load in the general demographics data.\n",
    "azdias = pd.read_csv('Udacity_AZDIAS_Subset.csv',sep=';')\n",
    "\n",
    "# Load in the feature summary file.\n",
    "feat_info = pd.read_csv('AZDIAS_Feature_Summary.csv',sep=';')"
   ]
  },
  {
   "cell_type": "code",
   "execution_count": 3,
   "metadata": {},
   "outputs": [
    {
     "name": "stdout",
     "output_type": "stream",
     "text": [
      "(891221, 85)\n"
     ]
    },
    {
     "data": {
      "text/html": [
       "<div>\n",
       "<style>\n",
       "    .dataframe thead tr:only-child th {\n",
       "        text-align: right;\n",
       "    }\n",
       "\n",
       "    .dataframe thead th {\n",
       "        text-align: left;\n",
       "    }\n",
       "\n",
       "    .dataframe tbody tr th {\n",
       "        vertical-align: top;\n",
       "    }\n",
       "</style>\n",
       "<table border=\"1\" class=\"dataframe\">\n",
       "  <thead>\n",
       "    <tr style=\"text-align: right;\">\n",
       "      <th></th>\n",
       "      <th>AGER_TYP</th>\n",
       "      <th>ALTERSKATEGORIE_GROB</th>\n",
       "      <th>ANREDE_KZ</th>\n",
       "      <th>CJT_GESAMTTYP</th>\n",
       "      <th>FINANZ_MINIMALIST</th>\n",
       "      <th>FINANZ_SPARER</th>\n",
       "      <th>FINANZ_VORSORGER</th>\n",
       "      <th>FINANZ_ANLEGER</th>\n",
       "      <th>FINANZ_UNAUFFAELLIGER</th>\n",
       "      <th>FINANZ_HAUSBAUER</th>\n",
       "      <th>...</th>\n",
       "      <th>PLZ8_ANTG1</th>\n",
       "      <th>PLZ8_ANTG2</th>\n",
       "      <th>PLZ8_ANTG3</th>\n",
       "      <th>PLZ8_ANTG4</th>\n",
       "      <th>PLZ8_BAUMAX</th>\n",
       "      <th>PLZ8_HHZ</th>\n",
       "      <th>PLZ8_GBZ</th>\n",
       "      <th>ARBEIT</th>\n",
       "      <th>ORTSGR_KLS9</th>\n",
       "      <th>RELAT_AB</th>\n",
       "    </tr>\n",
       "  </thead>\n",
       "  <tbody>\n",
       "    <tr>\n",
       "      <th>0</th>\n",
       "      <td>-1</td>\n",
       "      <td>2</td>\n",
       "      <td>1</td>\n",
       "      <td>2.0</td>\n",
       "      <td>3</td>\n",
       "      <td>4</td>\n",
       "      <td>3</td>\n",
       "      <td>5</td>\n",
       "      <td>5</td>\n",
       "      <td>3</td>\n",
       "      <td>...</td>\n",
       "      <td>NaN</td>\n",
       "      <td>NaN</td>\n",
       "      <td>NaN</td>\n",
       "      <td>NaN</td>\n",
       "      <td>NaN</td>\n",
       "      <td>NaN</td>\n",
       "      <td>NaN</td>\n",
       "      <td>NaN</td>\n",
       "      <td>NaN</td>\n",
       "      <td>NaN</td>\n",
       "    </tr>\n",
       "    <tr>\n",
       "      <th>1</th>\n",
       "      <td>-1</td>\n",
       "      <td>1</td>\n",
       "      <td>2</td>\n",
       "      <td>5.0</td>\n",
       "      <td>1</td>\n",
       "      <td>5</td>\n",
       "      <td>2</td>\n",
       "      <td>5</td>\n",
       "      <td>4</td>\n",
       "      <td>5</td>\n",
       "      <td>...</td>\n",
       "      <td>2.0</td>\n",
       "      <td>3.0</td>\n",
       "      <td>2.0</td>\n",
       "      <td>1.0</td>\n",
       "      <td>1.0</td>\n",
       "      <td>5.0</td>\n",
       "      <td>4.0</td>\n",
       "      <td>3.0</td>\n",
       "      <td>5.0</td>\n",
       "      <td>4.0</td>\n",
       "    </tr>\n",
       "    <tr>\n",
       "      <th>2</th>\n",
       "      <td>-1</td>\n",
       "      <td>3</td>\n",
       "      <td>2</td>\n",
       "      <td>3.0</td>\n",
       "      <td>1</td>\n",
       "      <td>4</td>\n",
       "      <td>1</td>\n",
       "      <td>2</td>\n",
       "      <td>3</td>\n",
       "      <td>5</td>\n",
       "      <td>...</td>\n",
       "      <td>3.0</td>\n",
       "      <td>3.0</td>\n",
       "      <td>1.0</td>\n",
       "      <td>0.0</td>\n",
       "      <td>1.0</td>\n",
       "      <td>4.0</td>\n",
       "      <td>4.0</td>\n",
       "      <td>3.0</td>\n",
       "      <td>5.0</td>\n",
       "      <td>2.0</td>\n",
       "    </tr>\n",
       "    <tr>\n",
       "      <th>3</th>\n",
       "      <td>2</td>\n",
       "      <td>4</td>\n",
       "      <td>2</td>\n",
       "      <td>2.0</td>\n",
       "      <td>4</td>\n",
       "      <td>2</td>\n",
       "      <td>5</td>\n",
       "      <td>2</td>\n",
       "      <td>1</td>\n",
       "      <td>2</td>\n",
       "      <td>...</td>\n",
       "      <td>2.0</td>\n",
       "      <td>2.0</td>\n",
       "      <td>2.0</td>\n",
       "      <td>0.0</td>\n",
       "      <td>1.0</td>\n",
       "      <td>3.0</td>\n",
       "      <td>4.0</td>\n",
       "      <td>2.0</td>\n",
       "      <td>3.0</td>\n",
       "      <td>3.0</td>\n",
       "    </tr>\n",
       "    <tr>\n",
       "      <th>4</th>\n",
       "      <td>-1</td>\n",
       "      <td>3</td>\n",
       "      <td>1</td>\n",
       "      <td>5.0</td>\n",
       "      <td>4</td>\n",
       "      <td>3</td>\n",
       "      <td>4</td>\n",
       "      <td>1</td>\n",
       "      <td>3</td>\n",
       "      <td>2</td>\n",
       "      <td>...</td>\n",
       "      <td>2.0</td>\n",
       "      <td>4.0</td>\n",
       "      <td>2.0</td>\n",
       "      <td>1.0</td>\n",
       "      <td>2.0</td>\n",
       "      <td>3.0</td>\n",
       "      <td>3.0</td>\n",
       "      <td>4.0</td>\n",
       "      <td>6.0</td>\n",
       "      <td>5.0</td>\n",
       "    </tr>\n",
       "  </tbody>\n",
       "</table>\n",
       "<p>5 rows × 85 columns</p>\n",
       "</div>"
      ],
      "text/plain": [
       "   AGER_TYP  ALTERSKATEGORIE_GROB  ANREDE_KZ  CJT_GESAMTTYP  \\\n",
       "0        -1                     2          1            2.0   \n",
       "1        -1                     1          2            5.0   \n",
       "2        -1                     3          2            3.0   \n",
       "3         2                     4          2            2.0   \n",
       "4        -1                     3          1            5.0   \n",
       "\n",
       "   FINANZ_MINIMALIST  FINANZ_SPARER  FINANZ_VORSORGER  FINANZ_ANLEGER  \\\n",
       "0                  3              4                 3               5   \n",
       "1                  1              5                 2               5   \n",
       "2                  1              4                 1               2   \n",
       "3                  4              2                 5               2   \n",
       "4                  4              3                 4               1   \n",
       "\n",
       "   FINANZ_UNAUFFAELLIGER  FINANZ_HAUSBAUER    ...     PLZ8_ANTG1  PLZ8_ANTG2  \\\n",
       "0                      5                 3    ...            NaN         NaN   \n",
       "1                      4                 5    ...            2.0         3.0   \n",
       "2                      3                 5    ...            3.0         3.0   \n",
       "3                      1                 2    ...            2.0         2.0   \n",
       "4                      3                 2    ...            2.0         4.0   \n",
       "\n",
       "   PLZ8_ANTG3  PLZ8_ANTG4  PLZ8_BAUMAX  PLZ8_HHZ  PLZ8_GBZ  ARBEIT  \\\n",
       "0         NaN         NaN          NaN       NaN       NaN     NaN   \n",
       "1         2.0         1.0          1.0       5.0       4.0     3.0   \n",
       "2         1.0         0.0          1.0       4.0       4.0     3.0   \n",
       "3         2.0         0.0          1.0       3.0       4.0     2.0   \n",
       "4         2.0         1.0          2.0       3.0       3.0     4.0   \n",
       "\n",
       "   ORTSGR_KLS9  RELAT_AB  \n",
       "0          NaN       NaN  \n",
       "1          5.0       4.0  \n",
       "2          5.0       2.0  \n",
       "3          3.0       3.0  \n",
       "4          6.0       5.0  \n",
       "\n",
       "[5 rows x 85 columns]"
      ]
     },
     "execution_count": 3,
     "metadata": {},
     "output_type": "execute_result"
    }
   ],
   "source": [
    "# Check the structure of the data after it's loaded (e.g. print the number of\n",
    "# rows and columns, print the first few rows).\n",
    "print(azdias.shape)\n",
    "azdias.head()"
   ]
  },
  {
   "cell_type": "code",
   "execution_count": 4,
   "metadata": {},
   "outputs": [
    {
     "name": "stdout",
     "output_type": "stream",
     "text": [
      "(85, 4)\n"
     ]
    },
    {
     "data": {
      "text/html": [
       "<div>\n",
       "<style>\n",
       "    .dataframe thead tr:only-child th {\n",
       "        text-align: right;\n",
       "    }\n",
       "\n",
       "    .dataframe thead th {\n",
       "        text-align: left;\n",
       "    }\n",
       "\n",
       "    .dataframe tbody tr th {\n",
       "        vertical-align: top;\n",
       "    }\n",
       "</style>\n",
       "<table border=\"1\" class=\"dataframe\">\n",
       "  <thead>\n",
       "    <tr style=\"text-align: right;\">\n",
       "      <th></th>\n",
       "      <th>attribute</th>\n",
       "      <th>information_level</th>\n",
       "      <th>type</th>\n",
       "      <th>missing_or_unknown</th>\n",
       "    </tr>\n",
       "  </thead>\n",
       "  <tbody>\n",
       "    <tr>\n",
       "      <th>0</th>\n",
       "      <td>AGER_TYP</td>\n",
       "      <td>person</td>\n",
       "      <td>categorical</td>\n",
       "      <td>[-1,0]</td>\n",
       "    </tr>\n",
       "    <tr>\n",
       "      <th>1</th>\n",
       "      <td>ALTERSKATEGORIE_GROB</td>\n",
       "      <td>person</td>\n",
       "      <td>ordinal</td>\n",
       "      <td>[-1,0,9]</td>\n",
       "    </tr>\n",
       "    <tr>\n",
       "      <th>2</th>\n",
       "      <td>ANREDE_KZ</td>\n",
       "      <td>person</td>\n",
       "      <td>categorical</td>\n",
       "      <td>[-1,0]</td>\n",
       "    </tr>\n",
       "    <tr>\n",
       "      <th>3</th>\n",
       "      <td>CJT_GESAMTTYP</td>\n",
       "      <td>person</td>\n",
       "      <td>categorical</td>\n",
       "      <td>[0]</td>\n",
       "    </tr>\n",
       "    <tr>\n",
       "      <th>4</th>\n",
       "      <td>FINANZ_MINIMALIST</td>\n",
       "      <td>person</td>\n",
       "      <td>ordinal</td>\n",
       "      <td>[-1]</td>\n",
       "    </tr>\n",
       "  </tbody>\n",
       "</table>\n",
       "</div>"
      ],
      "text/plain": [
       "              attribute information_level         type missing_or_unknown\n",
       "0              AGER_TYP            person  categorical             [-1,0]\n",
       "1  ALTERSKATEGORIE_GROB            person      ordinal           [-1,0,9]\n",
       "2             ANREDE_KZ            person  categorical             [-1,0]\n",
       "3         CJT_GESAMTTYP            person  categorical                [0]\n",
       "4     FINANZ_MINIMALIST            person      ordinal               [-1]"
      ]
     },
     "execution_count": 4,
     "metadata": {},
     "output_type": "execute_result"
    }
   ],
   "source": [
    "print(feat_info.shape)\n",
    "feat_info.head()"
   ]
  },
  {
   "cell_type": "markdown",
   "metadata": {},
   "source": [
    "> **Tip**: Add additional cells to keep everything in reasonably-sized chunks! Keyboard shortcut `esc --> a` (press escape to enter command mode, then press the 'A' key) adds a new cell before the active cell, and `esc --> b` adds a new cell after the active cell. If you need to convert an active cell to a markdown cell, use `esc --> m` and to convert to a code cell, use `esc --> y`. \n",
    "\n",
    "## Step 1: Preprocessing\n",
    "\n",
    "### Step 1.1: Assess Missing Data\n",
    "\n",
    "The feature summary file contains a summary of properties for each demographics data column. You will use this file to help you make cleaning decisions during this stage of the project. First of all, you should assess the demographics data in terms of missing data. Pay attention to the following points as you perform your analysis, and take notes on what you observe. Make sure that you fill in the **Discussion** cell with your findings and decisions at the end of each step that has one!\n",
    "\n",
    "#### Step 1.1.1: Convert Missing Value Codes to NaNs\n",
    "The fourth column of the feature attributes summary (loaded in above as `feat_info`) documents the codes from the data dictionary that indicate missing or unknown data. While the file encodes this as a list (e.g. `[-1,0]`), this will get read in as a string object. You'll need to do a little bit of parsing to make use of it to identify and clean the data. Convert data that matches a 'missing' or 'unknown' value code into a numpy NaN value. You might want to see how much data takes on a 'missing' or 'unknown' code, and how much data is naturally missing, as a point of interest.\n",
    "\n",
    "**As one more reminder, you are encouraged to add additional cells to break up your analysis into manageable chunks.**"
   ]
  },
  {
   "cell_type": "code",
   "execution_count": 5,
   "metadata": {},
   "outputs": [],
   "source": [
    "# missing_or_unknown_adj=feat_info.missing_or_unknown.apply(lambda x: x[1:-1].split(\",\"))\n",
    "# feat_info['missing_or_unknown_adj']=missing_or_unknown_adj"
   ]
  },
  {
   "cell_type": "code",
   "execution_count": 4,
   "metadata": {},
   "outputs": [],
   "source": [
    "#change str column to int from table feat_info#\n",
    "missing_or_unknown_adj=[]\n",
    "for i in range(0,len(feat_info.missing_or_unknown)):\n",
    "    old_value=feat_info.missing_or_unknown[i]\n",
    "    new_value=[]\n",
    "    for j in old_value[1:-1].split(\",\"):\n",
    "            new_value.append(j)\n",
    "    missing_or_unknown_adj.append(new_value)"
   ]
  },
  {
   "cell_type": "code",
   "execution_count": 7,
   "metadata": {},
   "outputs": [],
   "source": [
    "feat_info['missing_or_unknown_adj']=missing_or_unknown_adj"
   ]
  },
  {
   "cell_type": "code",
   "execution_count": 8,
   "metadata": {},
   "outputs": [],
   "source": [
    "# Identify missing or unknown data values and convert them to NaNs.\n",
    "for i in range(0,len(azdias.columns)):\n",
    "    azdias.loc[azdias.iloc[:,i].isin (list(feat_info[feat_info.attribute==azdias.columns[i]].missing_or_unknown_adj)[0]),azdias.columns[i]]=np.NaN\n"
   ]
  },
  {
   "cell_type": "code",
   "execution_count": 9,
   "metadata": {},
   "outputs": [],
   "source": [
    "missing_summary=pd.DataFrame(azdias.apply(lambda x: pd.isnull(x).value_counts()))"
   ]
  },
  {
   "cell_type": "code",
   "execution_count": 10,
   "metadata": {},
   "outputs": [
    {
     "data": {
      "text/html": [
       "<div>\n",
       "<style>\n",
       "    .dataframe thead tr:only-child th {\n",
       "        text-align: right;\n",
       "    }\n",
       "\n",
       "    .dataframe thead th {\n",
       "        text-align: left;\n",
       "    }\n",
       "\n",
       "    .dataframe tbody tr th {\n",
       "        vertical-align: top;\n",
       "    }\n",
       "</style>\n",
       "<table border=\"1\" class=\"dataframe\">\n",
       "  <thead>\n",
       "    <tr style=\"text-align: right;\">\n",
       "      <th></th>\n",
       "      <th>AGER_TYP</th>\n",
       "      <th>ALTERSKATEGORIE_GROB</th>\n",
       "      <th>ANREDE_KZ</th>\n",
       "      <th>CJT_GESAMTTYP</th>\n",
       "      <th>FINANZ_MINIMALIST</th>\n",
       "      <th>FINANZ_SPARER</th>\n",
       "      <th>FINANZ_VORSORGER</th>\n",
       "      <th>FINANZ_ANLEGER</th>\n",
       "      <th>FINANZ_UNAUFFAELLIGER</th>\n",
       "      <th>FINANZ_HAUSBAUER</th>\n",
       "      <th>...</th>\n",
       "      <th>PLZ8_ANTG1</th>\n",
       "      <th>PLZ8_ANTG2</th>\n",
       "      <th>PLZ8_ANTG3</th>\n",
       "      <th>PLZ8_ANTG4</th>\n",
       "      <th>PLZ8_BAUMAX</th>\n",
       "      <th>PLZ8_HHZ</th>\n",
       "      <th>PLZ8_GBZ</th>\n",
       "      <th>ARBEIT</th>\n",
       "      <th>ORTSGR_KLS9</th>\n",
       "      <th>RELAT_AB</th>\n",
       "    </tr>\n",
       "  </thead>\n",
       "  <tbody>\n",
       "    <tr>\n",
       "      <th>False</th>\n",
       "      <td>205378</td>\n",
       "      <td>888340</td>\n",
       "      <td>891221.0</td>\n",
       "      <td>886367</td>\n",
       "      <td>891221.0</td>\n",
       "      <td>891221.0</td>\n",
       "      <td>891221.0</td>\n",
       "      <td>891221.0</td>\n",
       "      <td>891221.0</td>\n",
       "      <td>891221.0</td>\n",
       "      <td>...</td>\n",
       "      <td>774706</td>\n",
       "      <td>774706</td>\n",
       "      <td>774706</td>\n",
       "      <td>774706</td>\n",
       "      <td>774706</td>\n",
       "      <td>774706</td>\n",
       "      <td>774706</td>\n",
       "      <td>793846</td>\n",
       "      <td>793947</td>\n",
       "      <td>793846</td>\n",
       "    </tr>\n",
       "    <tr>\n",
       "      <th>True</th>\n",
       "      <td>685843</td>\n",
       "      <td>2881</td>\n",
       "      <td>NaN</td>\n",
       "      <td>4854</td>\n",
       "      <td>NaN</td>\n",
       "      <td>NaN</td>\n",
       "      <td>NaN</td>\n",
       "      <td>NaN</td>\n",
       "      <td>NaN</td>\n",
       "      <td>NaN</td>\n",
       "      <td>...</td>\n",
       "      <td>116515</td>\n",
       "      <td>116515</td>\n",
       "      <td>116515</td>\n",
       "      <td>116515</td>\n",
       "      <td>116515</td>\n",
       "      <td>116515</td>\n",
       "      <td>116515</td>\n",
       "      <td>97375</td>\n",
       "      <td>97274</td>\n",
       "      <td>97375</td>\n",
       "    </tr>\n",
       "  </tbody>\n",
       "</table>\n",
       "<p>2 rows × 85 columns</p>\n",
       "</div>"
      ],
      "text/plain": [
       "       AGER_TYP  ALTERSKATEGORIE_GROB  ANREDE_KZ  CJT_GESAMTTYP  \\\n",
       "False    205378                888340   891221.0         886367   \n",
       "True     685843                  2881        NaN           4854   \n",
       "\n",
       "       FINANZ_MINIMALIST  FINANZ_SPARER  FINANZ_VORSORGER  FINANZ_ANLEGER  \\\n",
       "False           891221.0       891221.0          891221.0        891221.0   \n",
       "True                 NaN            NaN               NaN             NaN   \n",
       "\n",
       "       FINANZ_UNAUFFAELLIGER  FINANZ_HAUSBAUER    ...     PLZ8_ANTG1  \\\n",
       "False               891221.0          891221.0    ...         774706   \n",
       "True                     NaN               NaN    ...         116515   \n",
       "\n",
       "       PLZ8_ANTG2  PLZ8_ANTG3  PLZ8_ANTG4  PLZ8_BAUMAX  PLZ8_HHZ  PLZ8_GBZ  \\\n",
       "False      774706      774706      774706       774706    774706    774706   \n",
       "True       116515      116515      116515       116515    116515    116515   \n",
       "\n",
       "       ARBEIT  ORTSGR_KLS9  RELAT_AB  \n",
       "False  793846       793947    793846  \n",
       "True    97375        97274     97375  \n",
       "\n",
       "[2 rows x 85 columns]"
      ]
     },
     "execution_count": 10,
     "metadata": {},
     "output_type": "execute_result"
    }
   ],
   "source": [
    "missing_summary"
   ]
  },
  {
   "cell_type": "markdown",
   "metadata": {},
   "source": [
    "#### Step 1.1.2: Assess Missing Data in Each Column\n",
    "\n",
    "How much missing data is present in each column? There are a few columns that are outliers in terms of the proportion of values that are missing. You will want to use matplotlib's [`hist()`](https://matplotlib.org/api/_as_gen/matplotlib.pyplot.hist.html) function to visualize the distribution of missing value counts to find these columns. Identify and document these columns. While some of these columns might have justifications for keeping or re-encoding the data, for this project you should just remove them from the dataframe. (Feel free to make remarks about these outlier columns in the discussion, however!)\n",
    "\n",
    "For the remaining features, are there any patterns in which columns have, or share, missing data?"
   ]
  },
  {
   "cell_type": "code",
   "execution_count": 11,
   "metadata": {},
   "outputs": [
    {
     "data": {
      "text/html": [
       "<div>\n",
       "<style>\n",
       "    .dataframe thead tr:only-child th {\n",
       "        text-align: right;\n",
       "    }\n",
       "\n",
       "    .dataframe thead th {\n",
       "        text-align: left;\n",
       "    }\n",
       "\n",
       "    .dataframe tbody tr th {\n",
       "        vertical-align: top;\n",
       "    }\n",
       "</style>\n",
       "<table border=\"1\" class=\"dataframe\">\n",
       "  <thead>\n",
       "    <tr style=\"text-align: right;\">\n",
       "      <th></th>\n",
       "      <th>TITEL_KZ</th>\n",
       "      <th>AGER_TYP</th>\n",
       "      <th>KK_KUNDENTYP</th>\n",
       "      <th>KBA05_BAUMAX</th>\n",
       "      <th>GEBURTSJAHR</th>\n",
       "      <th>ALTER_HH</th>\n",
       "      <th>KKK</th>\n",
       "      <th>REGIOTYP</th>\n",
       "      <th>W_KEIT_KIND_HH</th>\n",
       "      <th>KBA05_ANTG3</th>\n",
       "      <th>...</th>\n",
       "      <th>SEMIO_LUST</th>\n",
       "      <th>SEMIO_ERL</th>\n",
       "      <th>SEMIO_KULT</th>\n",
       "      <th>SEMIO_RAT</th>\n",
       "      <th>SEMIO_KRIT</th>\n",
       "      <th>SEMIO_DOM</th>\n",
       "      <th>SEMIO_KAEM</th>\n",
       "      <th>SEMIO_PFLICHT</th>\n",
       "      <th>SEMIO_TRADV</th>\n",
       "      <th>ZABEOTYP</th>\n",
       "    </tr>\n",
       "  </thead>\n",
       "  <tbody>\n",
       "    <tr>\n",
       "      <th>False</th>\n",
       "      <td>2160</td>\n",
       "      <td>205378</td>\n",
       "      <td>306609</td>\n",
       "      <td>414697</td>\n",
       "      <td>498903</td>\n",
       "      <td>580954</td>\n",
       "      <td>733157</td>\n",
       "      <td>733157</td>\n",
       "      <td>743233</td>\n",
       "      <td>757897</td>\n",
       "      <td>...</td>\n",
       "      <td>891221.0</td>\n",
       "      <td>891221.0</td>\n",
       "      <td>891221.0</td>\n",
       "      <td>891221.0</td>\n",
       "      <td>891221.0</td>\n",
       "      <td>891221.0</td>\n",
       "      <td>891221.0</td>\n",
       "      <td>891221.0</td>\n",
       "      <td>891221.0</td>\n",
       "      <td>891221.0</td>\n",
       "    </tr>\n",
       "    <tr>\n",
       "      <th>True</th>\n",
       "      <td>889061</td>\n",
       "      <td>685843</td>\n",
       "      <td>584612</td>\n",
       "      <td>476524</td>\n",
       "      <td>392318</td>\n",
       "      <td>310267</td>\n",
       "      <td>158064</td>\n",
       "      <td>158064</td>\n",
       "      <td>147988</td>\n",
       "      <td>133324</td>\n",
       "      <td>...</td>\n",
       "      <td>NaN</td>\n",
       "      <td>NaN</td>\n",
       "      <td>NaN</td>\n",
       "      <td>NaN</td>\n",
       "      <td>NaN</td>\n",
       "      <td>NaN</td>\n",
       "      <td>NaN</td>\n",
       "      <td>NaN</td>\n",
       "      <td>NaN</td>\n",
       "      <td>NaN</td>\n",
       "    </tr>\n",
       "  </tbody>\n",
       "</table>\n",
       "<p>2 rows × 85 columns</p>\n",
       "</div>"
      ],
      "text/plain": [
       "       TITEL_KZ  AGER_TYP  KK_KUNDENTYP  KBA05_BAUMAX  GEBURTSJAHR  ALTER_HH  \\\n",
       "False      2160    205378        306609        414697       498903    580954   \n",
       "True     889061    685843        584612        476524       392318    310267   \n",
       "\n",
       "          KKK  REGIOTYP  W_KEIT_KIND_HH  KBA05_ANTG3    ...     SEMIO_LUST  \\\n",
       "False  733157    733157          743233       757897    ...       891221.0   \n",
       "True   158064    158064          147988       133324    ...            NaN   \n",
       "\n",
       "       SEMIO_ERL  SEMIO_KULT  SEMIO_RAT  SEMIO_KRIT  SEMIO_DOM  SEMIO_KAEM  \\\n",
       "False   891221.0    891221.0   891221.0    891221.0   891221.0    891221.0   \n",
       "True         NaN         NaN        NaN         NaN        NaN         NaN   \n",
       "\n",
       "       SEMIO_PFLICHT  SEMIO_TRADV  ZABEOTYP  \n",
       "False       891221.0     891221.0  891221.0  \n",
       "True             NaN          NaN       NaN  \n",
       "\n",
       "[2 rows x 85 columns]"
      ]
     },
     "execution_count": 11,
     "metadata": {},
     "output_type": "execute_result"
    }
   ],
   "source": [
    "#How much missing data is present in each column?\n",
    "missing_summary=missing_summary.sort_values(by=True,axis=1, ascending=False)\n",
    "missing_summary"
   ]
  },
  {
   "cell_type": "code",
   "execution_count": 12,
   "metadata": {
    "scrolled": true
   },
   "outputs": [
    {
     "data": {
      "text/plain": [
       "<Container object of 85 artists>"
      ]
     },
     "execution_count": 12,
     "metadata": {},
     "output_type": "execute_result"
    },
    {
     "data": {
      "image/png": "[encoded data removed]",
      "text/plain": [
       "<matplotlib.figure.Figure at 0x7f1db15651d0>"
      ]
     },
     "metadata": {
      "needs_background": "light"
     },
     "output_type": "display_data"
    }
   ],
   "source": [
    "# Perform an assessment of how much missing data there is in each column of the\n",
    "# dataset.\n",
    "plt.bar([missing_summary.columns.get_loc(c) for c in missing_summary.columns],missing_summary.iloc[1])"
   ]
  },
  {
   "cell_type": "code",
   "execution_count": 13,
   "metadata": {},
   "outputs": [],
   "source": [
    "# Remove the outlier columns from the dataset. (You'll perform other data\n",
    "# engineering tasks such as re-encoding and imputation later.)\n",
    "azdias_v2=azdias[missing_summary.columns[6:]]"
   ]
  },
  {
   "cell_type": "code",
   "execution_count": 14,
   "metadata": {},
   "outputs": [
    {
     "data": {
      "text/html": [
       "<div>\n",
       "<style>\n",
       "    .dataframe thead tr:only-child th {\n",
       "        text-align: right;\n",
       "    }\n",
       "\n",
       "    .dataframe thead th {\n",
       "        text-align: left;\n",
       "    }\n",
       "\n",
       "    .dataframe tbody tr th {\n",
       "        vertical-align: top;\n",
       "    }\n",
       "</style>\n",
       "<table border=\"1\" class=\"dataframe\">\n",
       "  <thead>\n",
       "    <tr style=\"text-align: right;\">\n",
       "      <th></th>\n",
       "      <th>KKK</th>\n",
       "      <th>REGIOTYP</th>\n",
       "      <th>W_KEIT_KIND_HH</th>\n",
       "      <th>KBA05_ANTG3</th>\n",
       "      <th>KBA05_ANTG1</th>\n",
       "      <th>KBA05_ANTG2</th>\n",
       "      <th>KBA05_GBZ</th>\n",
       "      <th>KBA05_ANTG4</th>\n",
       "      <th>MOBI_REGIO</th>\n",
       "      <th>PLZ8_ANTG2</th>\n",
       "      <th>...</th>\n",
       "      <th>SEMIO_LUST</th>\n",
       "      <th>SEMIO_ERL</th>\n",
       "      <th>SEMIO_KULT</th>\n",
       "      <th>SEMIO_RAT</th>\n",
       "      <th>SEMIO_KRIT</th>\n",
       "      <th>SEMIO_DOM</th>\n",
       "      <th>SEMIO_KAEM</th>\n",
       "      <th>SEMIO_PFLICHT</th>\n",
       "      <th>SEMIO_TRADV</th>\n",
       "      <th>ZABEOTYP</th>\n",
       "    </tr>\n",
       "  </thead>\n",
       "  <tbody>\n",
       "    <tr>\n",
       "      <th>False</th>\n",
       "      <td>733157</td>\n",
       "      <td>733157</td>\n",
       "      <td>743233</td>\n",
       "      <td>757897</td>\n",
       "      <td>757897</td>\n",
       "      <td>757897</td>\n",
       "      <td>757897</td>\n",
       "      <td>757897</td>\n",
       "      <td>757897</td>\n",
       "      <td>774706</td>\n",
       "      <td>...</td>\n",
       "      <td>891221.0</td>\n",
       "      <td>891221.0</td>\n",
       "      <td>891221.0</td>\n",
       "      <td>891221.0</td>\n",
       "      <td>891221.0</td>\n",
       "      <td>891221.0</td>\n",
       "      <td>891221.0</td>\n",
       "      <td>891221.0</td>\n",
       "      <td>891221.0</td>\n",
       "      <td>891221.0</td>\n",
       "    </tr>\n",
       "    <tr>\n",
       "      <th>True</th>\n",
       "      <td>158064</td>\n",
       "      <td>158064</td>\n",
       "      <td>147988</td>\n",
       "      <td>133324</td>\n",
       "      <td>133324</td>\n",
       "      <td>133324</td>\n",
       "      <td>133324</td>\n",
       "      <td>133324</td>\n",
       "      <td>133324</td>\n",
       "      <td>116515</td>\n",
       "      <td>...</td>\n",
       "      <td>NaN</td>\n",
       "      <td>NaN</td>\n",
       "      <td>NaN</td>\n",
       "      <td>NaN</td>\n",
       "      <td>NaN</td>\n",
       "      <td>NaN</td>\n",
       "      <td>NaN</td>\n",
       "      <td>NaN</td>\n",
       "      <td>NaN</td>\n",
       "      <td>NaN</td>\n",
       "    </tr>\n",
       "  </tbody>\n",
       "</table>\n",
       "<p>2 rows × 79 columns</p>\n",
       "</div>"
      ],
      "text/plain": [
       "          KKK  REGIOTYP  W_KEIT_KIND_HH  KBA05_ANTG3  KBA05_ANTG1  \\\n",
       "False  733157    733157          743233       757897       757897   \n",
       "True   158064    158064          147988       133324       133324   \n",
       "\n",
       "       KBA05_ANTG2  KBA05_GBZ  KBA05_ANTG4  MOBI_REGIO  PLZ8_ANTG2    ...     \\\n",
       "False       757897     757897       757897      757897      774706    ...      \n",
       "True        133324     133324       133324      133324      116515    ...      \n",
       "\n",
       "       SEMIO_LUST  SEMIO_ERL  SEMIO_KULT  SEMIO_RAT  SEMIO_KRIT  SEMIO_DOM  \\\n",
       "False    891221.0   891221.0    891221.0   891221.0    891221.0   891221.0   \n",
       "True          NaN        NaN         NaN        NaN         NaN        NaN   \n",
       "\n",
       "       SEMIO_KAEM  SEMIO_PFLICHT  SEMIO_TRADV  ZABEOTYP  \n",
       "False    891221.0       891221.0     891221.0  891221.0  \n",
       "True          NaN            NaN          NaN       NaN  \n",
       "\n",
       "[2 rows x 79 columns]"
      ]
     },
     "execution_count": 14,
     "metadata": {},
     "output_type": "execute_result"
    }
   ],
   "source": [
    "pd.DataFrame(azdias_v2.apply(lambda x: pd.isnull(x).value_counts()))"
   ]
  },
  {
   "cell_type": "markdown",
   "metadata": {},
   "source": [
    "#### Discussion 1.1.2: Assess Missing Data in Each Column\n",
    "Found 6 features have anomaly missing rate(more than 35% missing), they are: 'TITEL_KZ','AGER_TYP','KK_KUNDENTYP','KBA05_BAUMAX','GEBURTSJAHR','ALTER_HH'. Removed these 6 features and continue further analysis "
   ]
  },
  {
   "cell_type": "markdown",
   "metadata": {},
   "source": [
    "#### Step 1.1.3: Assess Missing Data in Each Row\n",
    "\n",
    "Now, you'll perform a similar assessment for the rows of the dataset. How much data is missing in each row? As with the columns, you should see some groups of points that have a very different numbers of missing values. Divide the data into two subsets: one for data points that are above some threshold for missing values, and a second subset for points below that threshold.\n",
    "\n",
    "In order to know what to do with the outlier rows, we should see if the distribution of data values on columns that are not missing data (or are missing very little data) are similar or different between the two groups. Select at least five of these columns and compare the distribution of values.\n",
    "- You can use seaborn's [`countplot()`](https://seaborn.pydata.org/generated/seaborn.countplot.html) function to create a bar chart of code frequencies and matplotlib's [`subplot()`](https://matplotlib.org/api/_as_gen/matplotlib.pyplot.subplot.html) function to put bar charts for the two subplots side by side.\n",
    "- To reduce repeated code, you might want to write a function that can perform this comparison, taking as one of its arguments a column to be compared.\n",
    "\n",
    "Depending on what you observe in your comparison, this will have implications on how you approach your conclusions later in the analysis. If the distributions of non-missing features look similar between the data with many missing values and the data with few or no missing values, then we could argue that simply dropping those points from the analysis won't present a major issue. On the other hand, if the data with many missing values looks very different from the data with few or no missing values, then we should make a note on those data as special. We'll revisit these data later on. **Either way, you should continue your analysis for now using just the subset of the data with few or no missing values.**"
   ]
  },
  {
   "cell_type": "code",
   "execution_count": 15,
   "metadata": {},
   "outputs": [],
   "source": [
    "# How much data is missing in each row of the dataset?\n",
    "row_missing=azdias_v2.isnull().sum(axis=1)"
   ]
  },
  {
   "cell_type": "code",
   "execution_count": 16,
   "metadata": {},
   "outputs": [],
   "source": [
    "# Write code to divide the data into two subsets based on the number of missing\n",
    "# values in each row.\n",
    "#Use p75 as cutoff on row missing rate\n",
    "row_missing.quantile(0.75)\n",
    "\n",
    "low_missing_azdias_v2=azdias_v2[row_missing<=3]\n",
    "high_missing_azdias_v2=azdias_v2[row_missing>3]"
   ]
  },
  {
   "cell_type": "code",
   "execution_count": 17,
   "metadata": {},
   "outputs": [],
   "source": [
    "# Compare the distribution of values for at least five columns where there are\n",
    "# no or few missing values, between the two subsets.\n",
    "import seaborn as sns\n",
    "def compare_missing(col_name):\n",
    "    sns.set(style=\"darkgrid\")\n",
    "    plt.subplot(121)\n",
    "    ax1 = sns.countplot(x=col_name, data=low_missing_azdias_v2)\n",
    "    ax1.set_title('low_missing_dataset')\n",
    "    plt.subplot(122,sharex=ax1)\n",
    "    ax2 = sns.countplot(x=col_name,data=high_missing_azdias_v2)\n",
    "    ax2.set_title('high_missing_dataset')"
   ]
  },
  {
   "cell_type": "code",
   "execution_count": 18,
   "metadata": {},
   "outputs": [
    {
     "data": {
      "image/png": "[encoded data removed]",
      "text/plain": [
       "<matplotlib.figure.Figure at 0x7f1cf44efba8>"
      ]
     },
     "metadata": {},
     "output_type": "display_data"
    }
   ],
   "source": [
    "compare_missing('KKK')"
   ]
  },
  {
   "cell_type": "code",
   "execution_count": 19,
   "metadata": {},
   "outputs": [
    {
     "data": {
      "image/png": "[encoded data removed]",
      "text/plain": [
       "<matplotlib.figure.Figure at 0x7f1db1628be0>"
      ]
     },
     "metadata": {},
     "output_type": "display_data"
    }
   ],
   "source": [
    "compare_missing('REGIOTYP')"
   ]
  },
  {
   "cell_type": "code",
   "execution_count": 20,
   "metadata": {},
   "outputs": [
    {
     "data": {
      "image/png": "[encoded data removed]",
      "text/plain": [
       "<matplotlib.figure.Figure at 0x7f1d8f5e9828>"
      ]
     },
     "metadata": {},
     "output_type": "display_data"
    }
   ],
   "source": [
    "compare_missing('W_KEIT_KIND_HH')"
   ]
  },
  {
   "cell_type": "code",
   "execution_count": 21,
   "metadata": {},
   "outputs": [
    {
     "data": {
      "image/png": "[encoded data removed]",
      "text/plain": [
       "<matplotlib.figure.Figure at 0x7f1d8f4f5780>"
      ]
     },
     "metadata": {},
     "output_type": "display_data"
    }
   ],
   "source": [
    "compare_missing('KBA05_ANTG3')"
   ]
  },
  {
   "cell_type": "code",
   "execution_count": 22,
   "metadata": {},
   "outputs": [
    {
     "data": {
      "image/png": "[encoded data removed]",
      "text/plain": [
       "<matplotlib.figure.Figure at 0x7f1d8f473550>"
      ]
     },
     "metadata": {},
     "output_type": "display_data"
    }
   ],
   "source": [
    "compare_missing('KBA05_ANTG1')"
   ]
  },
  {
   "cell_type": "markdown",
   "metadata": {},
   "source": [
    "#### Discussion 1.1.3: Assess Missing Data in Each Row\n",
    "I checked top 5 features with highest missing rate. The distribution of these features between high missing dataset and low missing dataset are different. For now, I will only use low missing dataset. However, based on this finding, the low missing dataset might be a bias sample from overall population"
   ]
  },
  {
   "cell_type": "markdown",
   "metadata": {},
   "source": [
    "### Step 1.2: Select and Re-Encode Features\n",
    "\n",
    "Checking for missing data isn't the only way in which you can prepare a dataset for analysis. Since the unsupervised learning techniques to be used will only work on data that is encoded numerically, you need to make a few encoding changes or additional assumptions to be able to make progress. In addition, while almost all of the values in the dataset are encoded using numbers, not all of them represent numeric values. Check the third column of the feature summary (`feat_info`) for a summary of types of measurement.\n",
    "- For numeric and interval data, these features can be kept without changes.\n",
    "- Most of the variables in the dataset are ordinal in nature. While ordinal values may technically be non-linear in spacing, make the simplifying assumption that the ordinal variables can be treated as being interval in nature (that is, kept without any changes).\n",
    "- Special handling may be necessary for the remaining two variable types: categorical, and 'mixed'.\n",
    "\n",
    "In the first two parts of this sub-step, you will perform an investigation of the categorical and mixed-type features and make a decision on each of them, whether you will keep, drop, or re-encode each. Then, in the last part, you will create a new data frame with only the selected and engineered columns.\n",
    "\n",
    "Data wrangling is often the trickiest part of the data analysis process, and there's a lot of it to be done here. But stick with it: once you're done with this step, you'll be ready to get to the machine learning parts of the project!"
   ]
  },
  {
   "cell_type": "code",
   "execution_count": 23,
   "metadata": {},
   "outputs": [
    {
     "data": {
      "text/plain": [
       "ordinal        49\n",
       "categorical    18\n",
       "numeric         6\n",
       "mixed           6\n",
       "Name: type, dtype: int64"
      ]
     },
     "execution_count": 23,
     "metadata": {},
     "output_type": "execute_result"
    }
   ],
   "source": [
    "# How many features are there of each data type?\n",
    "feat_info[feat_info.attribute.isin (low_missing_azdias_v2.columns)].type.value_counts()"
   ]
  },
  {
   "cell_type": "markdown",
   "metadata": {},
   "source": [
    "#### Step 1.2.1: Re-Encode Categorical Features\n",
    "\n",
    "For categorical data, you would ordinarily need to encode the levels as dummy variables. Depending on the number of categories, perform one of the following:\n",
    "- For binary (two-level) categoricals that take numeric values, you can keep them without needing to do anything.\n",
    "- There is one binary variable that takes on non-numeric values. For this one, you need to re-encode the values as numbers or create a dummy variable.\n",
    "- For multi-level categoricals (three or more values), you can choose to encode the values using multiple dummy variables (e.g. via [OneHotEncoder](http://scikit-learn.org/stable/modules/generated/sklearn.preprocessing.OneHotEncoder.html)), or (to keep things straightforward) just drop them from the analysis. As always, document your choices in the Discussion section."
   ]
  },
  {
   "cell_type": "code",
   "execution_count": 24,
   "metadata": {
    "scrolled": false
   },
   "outputs": [
    {
     "data": {
      "text/html": [
       "<div>\n",
       "<style>\n",
       "    .dataframe thead tr:only-child th {\n",
       "        text-align: right;\n",
       "    }\n",
       "\n",
       "    .dataframe thead th {\n",
       "        text-align: left;\n",
       "    }\n",
       "\n",
       "    .dataframe tbody tr th {\n",
       "        vertical-align: top;\n",
       "    }\n",
       "</style>\n",
       "<table border=\"1\" class=\"dataframe\">\n",
       "  <thead>\n",
       "    <tr style=\"text-align: right;\">\n",
       "      <th></th>\n",
       "      <th>VERS_TYP</th>\n",
       "      <th>ANREDE_KZ</th>\n",
       "      <th>GREEN_AVANTGARDE</th>\n",
       "      <th>SOHO_KZ</th>\n",
       "    </tr>\n",
       "  </thead>\n",
       "  <tbody>\n",
       "    <tr>\n",
       "      <th>count</th>\n",
       "      <td>684502.000000</td>\n",
       "      <td>684502.000000</td>\n",
       "      <td>684502.000000</td>\n",
       "      <td>684502.000000</td>\n",
       "    </tr>\n",
       "    <tr>\n",
       "      <th>mean</th>\n",
       "      <td>1.528635</td>\n",
       "      <td>1.512440</td>\n",
       "      <td>0.227709</td>\n",
       "      <td>0.008418</td>\n",
       "    </tr>\n",
       "    <tr>\n",
       "      <th>std</th>\n",
       "      <td>0.499180</td>\n",
       "      <td>0.499846</td>\n",
       "      <td>0.419354</td>\n",
       "      <td>0.091362</td>\n",
       "    </tr>\n",
       "    <tr>\n",
       "      <th>min</th>\n",
       "      <td>1.000000</td>\n",
       "      <td>1.000000</td>\n",
       "      <td>0.000000</td>\n",
       "      <td>0.000000</td>\n",
       "    </tr>\n",
       "    <tr>\n",
       "      <th>25%</th>\n",
       "      <td>1.000000</td>\n",
       "      <td>1.000000</td>\n",
       "      <td>0.000000</td>\n",
       "      <td>0.000000</td>\n",
       "    </tr>\n",
       "    <tr>\n",
       "      <th>50%</th>\n",
       "      <td>2.000000</td>\n",
       "      <td>2.000000</td>\n",
       "      <td>0.000000</td>\n",
       "      <td>0.000000</td>\n",
       "    </tr>\n",
       "    <tr>\n",
       "      <th>75%</th>\n",
       "      <td>2.000000</td>\n",
       "      <td>2.000000</td>\n",
       "      <td>0.000000</td>\n",
       "      <td>0.000000</td>\n",
       "    </tr>\n",
       "    <tr>\n",
       "      <th>max</th>\n",
       "      <td>2.000000</td>\n",
       "      <td>2.000000</td>\n",
       "      <td>1.000000</td>\n",
       "      <td>1.000000</td>\n",
       "    </tr>\n",
       "  </tbody>\n",
       "</table>\n",
       "</div>"
      ],
      "text/plain": [
       "            VERS_TYP      ANREDE_KZ  GREEN_AVANTGARDE        SOHO_KZ\n",
       "count  684502.000000  684502.000000     684502.000000  684502.000000\n",
       "mean        1.528635       1.512440          0.227709       0.008418\n",
       "std         0.499180       0.499846          0.419354       0.091362\n",
       "min         1.000000       1.000000          0.000000       0.000000\n",
       "25%         1.000000       1.000000          0.000000       0.000000\n",
       "50%         2.000000       2.000000          0.000000       0.000000\n",
       "75%         2.000000       2.000000          0.000000       0.000000\n",
       "max         2.000000       2.000000          1.000000       1.000000"
      ]
     },
     "execution_count": 24,
     "metadata": {},
     "output_type": "execute_result"
    }
   ],
   "source": [
    "# Assess categorical variables: which are binary, which are multi-level, and\n",
    "# which one needs to be re-encoded?\n",
    "category_features=low_missing_azdias_v2.columns[low_missing_azdias_v2.columns.isin(feat_info[feat_info.type=='categorical'].attribute)]\n",
    "category_features_levels=low_missing_azdias_v2[category_features].apply(lambda x: len(x.value_counts())).sort_values()\n",
    "category_features_levels\n",
    "\n",
    "# features VERS_TYP,ANREDE_KZ,OST_WEST_KZ,GREEN_AVANTGARDE,SOHO_KZ are binary features\n",
    "low_missing_azdias_v2[['VERS_TYP','ANREDE_KZ','OST_WEST_KZ','GREEN_AVANTGARDE','SOHO_KZ']].describe()\n"
   ]
  },
  {
   "cell_type": "code",
   "execution_count": 30,
   "metadata": {},
   "outputs": [
    {
     "data": {
      "text/plain": [
       "1    534902\n",
       "0    149600\n",
       "Name: OST_WEST_KZ, dtype: int64"
      ]
     },
     "execution_count": 30,
     "metadata": {},
     "output_type": "execute_result"
    }
   ],
   "source": [
    "# Re-encode categorical variable(s) to be kept in the analysis.\n",
    "#OST_WEST_KZ need re-encoded\n",
    "low_missing_azdias_v2['OST_WEST_KZ']=np.where(low_missing_azdias_v2.OST_WEST_KZ=='W',1,0)\n",
    "low_missing_azdias_v2.OST_WEST_KZ.value_counts()"
   ]
  },
  {
   "cell_type": "markdown",
   "metadata": {},
   "source": [
    "#### Discussion 1.2.1: Re-Encode Categorical Features\n",
    "There are total 18 category variables in my modeling dataset(low missing rate). Among 18 categorical variables, 5 categoricdal variables have 2 levels and encoded as 0/1. Drop rest categorical variables and continue the project"
   ]
  },
  {
   "cell_type": "markdown",
   "metadata": {},
   "source": [
    "#### Step 1.2.2: Engineer Mixed-Type Features\n",
    "\n",
    "There are a handful of features that are marked as \"mixed\" in the feature summary that require special treatment in order to be included in the analysis. There are two in particular that deserve attention; the handling of the rest are up to your own choices:\n",
    "- \"PRAEGENDE_JUGENDJAHRE\" combines information on three dimensions: generation by decade, movement (mainstream vs. avantgarde), and nation (east vs. west). While there aren't enough levels to disentangle east from west, you should create two new variables to capture the other two dimensions: an interval-type variable for decade, and a binary variable for movement.\n",
    "- \"CAMEO_INTL_2015\" combines information on two axes: wealth and life stage. Break up the two-digit codes by their 'tens'-place and 'ones'-place digits into two new ordinal variables (which, for the purposes of this project, is equivalent to just treating them as their raw numeric values).\n",
    "- If you decide to keep or engineer new features around the other mixed-type features, make sure you note your steps in the Discussion section.\n",
    "\n",
    "Be sure to check `Data_Dictionary.md` for the details needed to finish these tasks."
   ]
  },
  {
   "cell_type": "code",
   "execution_count": 61,
   "metadata": {},
   "outputs": [],
   "source": [
    "# Investigate \"PRAEGENDE_JUGENDJAHRE\" and engineer two new variables.\n",
    "PRAEGENDE_JUGENDJAHRE_decade=low_missing_azdias_v2.PRAEGENDE_JUGENDJAHRE.map({1:40,2:40,3:50,4:50,5:60,6:60,7:60,8:70,9:70,10:80,11:80,12:80,13:80,14:90,15:90})\n",
    "low_missing_azdias_v2.loc[:,'PRAEGENDE_JUGENDJAHRE_decade']=PRAEGENDE_JUGENDJAHRE_decade"
   ]
  },
  {
   "cell_type": "code",
   "execution_count": 62,
   "metadata": {},
   "outputs": [],
   "source": [
    "PRAEGENDE_JUGENDJAHRE_East_movement=low_missing_azdias_v2.PRAEGENDE_JUGENDJAHRE.map({7:1,12:1,13:1})\n",
    "PRAEGENDE_JUGENDJAHRE_East_movement=PRAEGENDE_JUGENDJAHRE_East_movement.fillna(0)\n",
    "low_missing_azdias_v2.loc[:,'PRAEGENDE_JUGENDJAHRE_East_movement']=PRAEGENDE_JUGENDJAHRE_East_movement"
   ]
  },
  {
   "cell_type": "code",
   "execution_count": 56,
   "metadata": {},
   "outputs": [],
   "source": [
    "# Investigate \"CAMEO_INTL_2015\" and engineer two new variables.\n",
    "CAMEO_INTL_2015_tens=low_missing_azdias_v2.CAMEO_INTL_2015.apply(lambda x: int(str(x)[0]) if str(x)!='nan' else 0)\n",
    "CAMEO_INTL_2015_ones=low_missing_azdias_v2.CAMEO_INTL_2015.apply(lambda x: int(str(x)[1]) if str(x)!='nan' else 0)"
   ]
  },
  {
   "cell_type": "code",
   "execution_count": 63,
   "metadata": {},
   "outputs": [],
   "source": [
    "low_missing_azdias_v2.loc[:,'CAMEO_INTL_2015_tens']=CAMEO_INTL_2015_tens\n",
    "low_missing_azdias_v2.loc[:,'CAMEO_INTL_2015_ones']=CAMEO_INTL_2015_ones"
   ]
  },
  {
   "cell_type": "code",
   "execution_count": 72,
   "metadata": {},
   "outputs": [
    {
     "data": {
      "text/plain": [
       "array(['LP_LEBENSPHASE_FEIN', 'LP_LEBENSPHASE_GROB',\n",
       "       'PRAEGENDE_JUGENDJAHRE', 'WOHNLAGE', 'CAMEO_INTL_2015',\n",
       "       'KBA05_BAUMAX', 'PLZ8_BAUMAX'], dtype=object)"
      ]
     },
     "execution_count": 72,
     "metadata": {},
     "output_type": "execute_result"
    }
   ],
   "source": [
    "feat_info[feat_info.type=='mixed'].attribute.values"
   ]
  },
  {
   "cell_type": "code",
   "execution_count": 75,
   "metadata": {},
   "outputs": [],
   "source": [
    "# drop other mixed tiye \n",
    "low_missing_azdias_v2=low_missing_azdias_v2.drop(['LP_LEBENSPHASE_FEIN', 'LP_LEBENSPHASE_GROB',\n",
    "       'PRAEGENDE_JUGENDJAHRE', 'WOHNLAGE', 'CAMEO_INTL_2015','PLZ8_BAUMAX'],axis=1 )"
   ]
  },
  {
   "cell_type": "markdown",
   "metadata": {},
   "source": [
    "#### Discussion 1.2.2: Engineer Mixed-Type Features\n",
    "Re-engineer two mixed type variables:\n",
    "PRAEGENDE_JUGENDJAHRE_East_movement-- east movement, binary variable \n",
    "PRAEGENDE_JUGENDJAHRE_decade -- generation by decade \n",
    "\n",
    "CAMEO_INTL_2015_tens--'tens' degit of the raw variable CAMEO_INTL_2015\n",
    "\n",
    "CAMEO_INTL_2015_tens--'ones' degit of the raw variable CAMEO_INTL_2015"
   ]
  },
  {
   "cell_type": "markdown",
   "metadata": {},
   "source": [
    "#### Step 1.2.3: Complete Feature Selection\n",
    "\n",
    "In order to finish this step up, you need to make sure that your data frame now only has the columns that you want to keep. To summarize, the dataframe should consist of the following:\n",
    "- All numeric, interval, and ordinal type columns from the original dataset.\n",
    "- Binary categorical features (all numerically-encoded).\n",
    "- Engineered features from other multi-level categorical features and mixed features.\n",
    "\n",
    "Make sure that for any new columns that you have engineered, that you've excluded the original columns from the final dataset. Otherwise, their values will interfere with the analysis later on the project. For example, you should not keep \"PRAEGENDE_JUGENDJAHRE\", since its values won't be useful for the algorithm: only the values derived from it in the engineered features you created should be retained. As a reminder, your data should only be from **the subset with few or no missing values**."
   ]
  },
  {
   "cell_type": "code",
   "execution_count": 76,
   "metadata": {},
   "outputs": [
    {
     "data": {
      "text/html": [
       "<div>\n",
       "<style>\n",
       "    .dataframe thead tr:only-child th {\n",
       "        text-align: right;\n",
       "    }\n",
       "\n",
       "    .dataframe thead th {\n",
       "        text-align: left;\n",
       "    }\n",
       "\n",
       "    .dataframe tbody tr th {\n",
       "        vertical-align: top;\n",
       "    }\n",
       "</style>\n",
       "<table border=\"1\" class=\"dataframe\">\n",
       "  <thead>\n",
       "    <tr style=\"text-align: right;\">\n",
       "      <th></th>\n",
       "      <th>KKK</th>\n",
       "      <th>REGIOTYP</th>\n",
       "      <th>W_KEIT_KIND_HH</th>\n",
       "      <th>KBA05_ANTG3</th>\n",
       "      <th>KBA05_ANTG1</th>\n",
       "      <th>KBA05_ANTG2</th>\n",
       "      <th>KBA05_GBZ</th>\n",
       "      <th>KBA05_ANTG4</th>\n",
       "      <th>MOBI_REGIO</th>\n",
       "      <th>PLZ8_ANTG2</th>\n",
       "      <th>...</th>\n",
       "      <th>SEMIO_KRIT</th>\n",
       "      <th>SEMIO_DOM</th>\n",
       "      <th>SEMIO_KAEM</th>\n",
       "      <th>SEMIO_PFLICHT</th>\n",
       "      <th>SEMIO_TRADV</th>\n",
       "      <th>ZABEOTYP</th>\n",
       "      <th>PRAEGENDE_JUGENDJAHRE_decade</th>\n",
       "      <th>PRAEGENDE_JUGENDJAHRE_East_movement</th>\n",
       "      <th>CAMEO_INTL_2015_tens</th>\n",
       "      <th>CAMEO_INTL_2015_ones</th>\n",
       "    </tr>\n",
       "  </thead>\n",
       "  <tbody>\n",
       "    <tr>\n",
       "      <th>count</th>\n",
       "      <td>646176.000000</td>\n",
       "      <td>646176.000000</td>\n",
       "      <td>666425.000000</td>\n",
       "      <td>684502.000000</td>\n",
       "      <td>684502.000000</td>\n",
       "      <td>684502.000000</td>\n",
       "      <td>684502.000000</td>\n",
       "      <td>684502.000000</td>\n",
       "      <td>684502.000000</td>\n",
       "      <td>684502.000000</td>\n",
       "      <td>...</td>\n",
       "      <td>684502.000000</td>\n",
       "      <td>684502.000000</td>\n",
       "      <td>684502.000000</td>\n",
       "      <td>684502.000000</td>\n",
       "      <td>684502.000000</td>\n",
       "      <td>684502.000000</td>\n",
       "      <td>677706.000000</td>\n",
       "      <td>684502.000000</td>\n",
       "      <td>684502.000000</td>\n",
       "      <td>684502.000000</td>\n",
       "    </tr>\n",
       "    <tr>\n",
       "      <th>mean</th>\n",
       "      <td>2.729204</td>\n",
       "      <td>4.474023</td>\n",
       "      <td>4.201109</td>\n",
       "      <td>0.618499</td>\n",
       "      <td>1.521997</td>\n",
       "      <td>1.259285</td>\n",
       "      <td>3.178303</td>\n",
       "      <td>0.297743</td>\n",
       "      <td>2.996529</td>\n",
       "      <td>2.804541</td>\n",
       "      <td>...</td>\n",
       "      <td>4.496171</td>\n",
       "      <td>4.582572</td>\n",
       "      <td>4.267241</td>\n",
       "      <td>4.114626</td>\n",
       "      <td>3.773587</td>\n",
       "      <td>3.383455</td>\n",
       "      <td>73.212794</td>\n",
       "      <td>0.044952</td>\n",
       "      <td>3.262917</td>\n",
       "      <td>2.871095</td>\n",
       "    </tr>\n",
       "    <tr>\n",
       "      <th>std</th>\n",
       "      <td>0.978825</td>\n",
       "      <td>1.830985</td>\n",
       "      <td>1.758078</td>\n",
       "      <td>1.012501</td>\n",
       "      <td>1.411640</td>\n",
       "      <td>1.240113</td>\n",
       "      <td>1.327944</td>\n",
       "      <td>0.633030</td>\n",
       "      <td>1.430192</td>\n",
       "      <td>0.920198</td>\n",
       "      <td>...</td>\n",
       "      <td>1.745159</td>\n",
       "      <td>1.848167</td>\n",
       "      <td>1.892738</td>\n",
       "      <td>1.878515</td>\n",
       "      <td>1.778951</td>\n",
       "      <td>1.411183</td>\n",
       "      <td>14.495609</td>\n",
       "      <td>0.207200</td>\n",
       "      <td>1.478639</td>\n",
       "      <td>1.499376</td>\n",
       "    </tr>\n",
       "    <tr>\n",
       "      <th>min</th>\n",
       "      <td>1.000000</td>\n",
       "      <td>1.000000</td>\n",
       "      <td>1.000000</td>\n",
       "      <td>0.000000</td>\n",
       "      <td>0.000000</td>\n",
       "      <td>0.000000</td>\n",
       "      <td>1.000000</td>\n",
       "      <td>0.000000</td>\n",
       "      <td>1.000000</td>\n",
       "      <td>0.000000</td>\n",
       "      <td>...</td>\n",
       "      <td>1.000000</td>\n",
       "      <td>1.000000</td>\n",
       "      <td>1.000000</td>\n",
       "      <td>1.000000</td>\n",
       "      <td>1.000000</td>\n",
       "      <td>1.000000</td>\n",
       "      <td>40.000000</td>\n",
       "      <td>0.000000</td>\n",
       "      <td>0.000000</td>\n",
       "      <td>0.000000</td>\n",
       "    </tr>\n",
       "    <tr>\n",
       "      <th>25%</th>\n",
       "      <td>2.000000</td>\n",
       "      <td>3.000000</td>\n",
       "      <td>3.000000</td>\n",
       "      <td>0.000000</td>\n",
       "      <td>0.000000</td>\n",
       "      <td>0.000000</td>\n",
       "      <td>2.000000</td>\n",
       "      <td>0.000000</td>\n",
       "      <td>2.000000</td>\n",
       "      <td>2.000000</td>\n",
       "      <td>...</td>\n",
       "      <td>3.000000</td>\n",
       "      <td>3.000000</td>\n",
       "      <td>3.000000</td>\n",
       "      <td>3.000000</td>\n",
       "      <td>2.000000</td>\n",
       "      <td>3.000000</td>\n",
       "      <td>60.000000</td>\n",
       "      <td>0.000000</td>\n",
       "      <td>2.000000</td>\n",
       "      <td>1.000000</td>\n",
       "    </tr>\n",
       "    <tr>\n",
       "      <th>50%</th>\n",
       "      <td>3.000000</td>\n",
       "      <td>5.000000</td>\n",
       "      <td>4.000000</td>\n",
       "      <td>0.000000</td>\n",
       "      <td>1.000000</td>\n",
       "      <td>1.000000</td>\n",
       "      <td>3.000000</td>\n",
       "      <td>0.000000</td>\n",
       "      <td>3.000000</td>\n",
       "      <td>3.000000</td>\n",
       "      <td>...</td>\n",
       "      <td>5.000000</td>\n",
       "      <td>5.000000</td>\n",
       "      <td>4.000000</td>\n",
       "      <td>4.000000</td>\n",
       "      <td>4.000000</td>\n",
       "      <td>3.000000</td>\n",
       "      <td>70.000000</td>\n",
       "      <td>0.000000</td>\n",
       "      <td>4.000000</td>\n",
       "      <td>3.000000</td>\n",
       "    </tr>\n",
       "    <tr>\n",
       "      <th>75%</th>\n",
       "      <td>3.000000</td>\n",
       "      <td>6.000000</td>\n",
       "      <td>6.000000</td>\n",
       "      <td>1.000000</td>\n",
       "      <td>3.000000</td>\n",
       "      <td>2.000000</td>\n",
       "      <td>4.000000</td>\n",
       "      <td>0.000000</td>\n",
       "      <td>4.000000</td>\n",
       "      <td>3.000000</td>\n",
       "      <td>...</td>\n",
       "      <td>6.000000</td>\n",
       "      <td>6.000000</td>\n",
       "      <td>6.000000</td>\n",
       "      <td>6.000000</td>\n",
       "      <td>5.000000</td>\n",
       "      <td>4.000000</td>\n",
       "      <td>90.000000</td>\n",
       "      <td>0.000000</td>\n",
       "      <td>5.000000</td>\n",
       "      <td>4.000000</td>\n",
       "    </tr>\n",
       "    <tr>\n",
       "      <th>max</th>\n",
       "      <td>4.000000</td>\n",
       "      <td>7.000000</td>\n",
       "      <td>6.000000</td>\n",
       "      <td>3.000000</td>\n",
       "      <td>4.000000</td>\n",
       "      <td>4.000000</td>\n",
       "      <td>5.000000</td>\n",
       "      <td>2.000000</td>\n",
       "      <td>6.000000</td>\n",
       "      <td>4.000000</td>\n",
       "      <td>...</td>\n",
       "      <td>7.000000</td>\n",
       "      <td>7.000000</td>\n",
       "      <td>7.000000</td>\n",
       "      <td>7.000000</td>\n",
       "      <td>7.000000</td>\n",
       "      <td>6.000000</td>\n",
       "      <td>90.000000</td>\n",
       "      <td>1.000000</td>\n",
       "      <td>5.000000</td>\n",
       "      <td>5.000000</td>\n",
       "    </tr>\n",
       "  </tbody>\n",
       "</table>\n",
       "<p>8 rows × 75 columns</p>\n",
       "</div>"
      ],
      "text/plain": [
       "                 KKK       REGIOTYP  W_KEIT_KIND_HH    KBA05_ANTG3  \\\n",
       "count  646176.000000  646176.000000   666425.000000  684502.000000   \n",
       "mean        2.729204       4.474023        4.201109       0.618499   \n",
       "std         0.978825       1.830985        1.758078       1.012501   \n",
       "min         1.000000       1.000000        1.000000       0.000000   \n",
       "25%         2.000000       3.000000        3.000000       0.000000   \n",
       "50%         3.000000       5.000000        4.000000       0.000000   \n",
       "75%         3.000000       6.000000        6.000000       1.000000   \n",
       "max         4.000000       7.000000        6.000000       3.000000   \n",
       "\n",
       "         KBA05_ANTG1    KBA05_ANTG2      KBA05_GBZ    KBA05_ANTG4  \\\n",
       "count  684502.000000  684502.000000  684502.000000  684502.000000   \n",
       "mean        1.521997       1.259285       3.178303       0.297743   \n",
       "std         1.411640       1.240113       1.327944       0.633030   \n",
       "min         0.000000       0.000000       1.000000       0.000000   \n",
       "25%         0.000000       0.000000       2.000000       0.000000   \n",
       "50%         1.000000       1.000000       3.000000       0.000000   \n",
       "75%         3.000000       2.000000       4.000000       0.000000   \n",
       "max         4.000000       4.000000       5.000000       2.000000   \n",
       "\n",
       "          MOBI_REGIO     PLZ8_ANTG2          ...              SEMIO_KRIT  \\\n",
       "count  684502.000000  684502.000000          ...           684502.000000   \n",
       "mean        2.996529       2.804541          ...                4.496171   \n",
       "std         1.430192       0.920198          ...                1.745159   \n",
       "min         1.000000       0.000000          ...                1.000000   \n",
       "25%         2.000000       2.000000          ...                3.000000   \n",
       "50%         3.000000       3.000000          ...                5.000000   \n",
       "75%         4.000000       3.000000          ...                6.000000   \n",
       "max         6.000000       4.000000          ...                7.000000   \n",
       "\n",
       "           SEMIO_DOM     SEMIO_KAEM  SEMIO_PFLICHT    SEMIO_TRADV  \\\n",
       "count  684502.000000  684502.000000  684502.000000  684502.000000   \n",
       "mean        4.582572       4.267241       4.114626       3.773587   \n",
       "std         1.848167       1.892738       1.878515       1.778951   \n",
       "min         1.000000       1.000000       1.000000       1.000000   \n",
       "25%         3.000000       3.000000       3.000000       2.000000   \n",
       "50%         5.000000       4.000000       4.000000       4.000000   \n",
       "75%         6.000000       6.000000       6.000000       5.000000   \n",
       "max         7.000000       7.000000       7.000000       7.000000   \n",
       "\n",
       "            ZABEOTYP  PRAEGENDE_JUGENDJAHRE_decade  \\\n",
       "count  684502.000000                 677706.000000   \n",
       "mean        3.383455                     73.212794   \n",
       "std         1.411183                     14.495609   \n",
       "min         1.000000                     40.000000   \n",
       "25%         3.000000                     60.000000   \n",
       "50%         3.000000                     70.000000   \n",
       "75%         4.000000                     90.000000   \n",
       "max         6.000000                     90.000000   \n",
       "\n",
       "       PRAEGENDE_JUGENDJAHRE_East_movement  CAMEO_INTL_2015_tens  \\\n",
       "count                        684502.000000         684502.000000   \n",
       "mean                              0.044952              3.262917   \n",
       "std                               0.207200              1.478639   \n",
       "min                               0.000000              0.000000   \n",
       "25%                               0.000000              2.000000   \n",
       "50%                               0.000000              4.000000   \n",
       "75%                               0.000000              5.000000   \n",
       "max                               1.000000              5.000000   \n",
       "\n",
       "       CAMEO_INTL_2015_ones  \n",
       "count         684502.000000  \n",
       "mean               2.871095  \n",
       "std                1.499376  \n",
       "min                0.000000  \n",
       "25%                1.000000  \n",
       "50%                3.000000  \n",
       "75%                4.000000  \n",
       "max                5.000000  \n",
       "\n",
       "[8 rows x 75 columns]"
      ]
     },
     "execution_count": 76,
     "metadata": {},
     "output_type": "execute_result"
    }
   ],
   "source": [
    "low_missing_azdias_v2.describe()"
   ]
  },
  {
   "cell_type": "markdown",
   "metadata": {},
   "source": [
    "##### If there are other re-engineering tasks you need to perform, make sure you take care of them here. (Dealing with missing data will come in step 2.1.)\n",
    "variables 'CAMEO_DEUG_2015','CAMEO_DEU_2015' are not int, drop them \n"
   ]
  },
  {
   "cell_type": "code",
   "execution_count": 90,
   "metadata": {},
   "outputs": [],
   "source": [
    "# Do whatever you need to in order to ensure that the dataframe only contains\n",
    "# the columns that should be passed to the algorithm functions.\n",
    "low_missing_azdias_v2=low_missing_azdias_v2.drop(['CAMEO_DEUG_2015','CAMEO_DEU_2015'], axis=1)"
   ]
  },
  {
   "cell_type": "markdown",
   "metadata": {},
   "source": [
    "### Step 1.3: Create a Cleaning Function\n",
    "\n",
    "Even though you've finished cleaning up the general population demographics data, it's important to look ahead to the future and realize that you'll need to perform the same cleaning steps on the customer demographics data. In this substep, complete the function below to execute the main feature selection, encoding, and re-engineering steps you performed above. Then, when it comes to looking at the customer data in Step 3, you can just run this function on that DataFrame to get the trimmed dataset in a single step."
   ]
  },
  {
   "cell_type": "code",
   "execution_count": 8,
   "metadata": {},
   "outputs": [],
   "source": [
    "def clean_data(df):\n",
    "    \"\"\"\n",
    "    Perform feature trimming, re-encoding, and engineering for demographics\n",
    "    data\n",
    "    \n",
    "    INPUT: Demographics DataFrame\n",
    "    OUTPUT: Trimmed and cleaned demographics DataFrame\n",
    "    \"\"\"\n",
    "    # Put in code here to execute all main cleaning steps:\n",
    "    # convert missing value codes into NaNs, ...\n",
    "    for i in range(0,len(df.columns)):\n",
    "        df.loc[df.iloc[:,i].isin (list(feat_info[feat_info.attribute==df.columns[i]].missing_or_unknown_adj)[0]),df.columns[i]]=np.NaN\n",
    "    missing_summary=pd.DataFrame(df.apply(lambda x: pd.isnull(x).value_counts()))\n",
    "    missing_summary=missing_summary.sort_values(by=True,axis=1, ascending=False)\n",
    "    # remove selected columns and rows, ...\n",
    "    df_v2=df[missing_summary.columns[6:]]\n",
    "    row_missing=df_v2.isnull().sum(axis=1)\n",
    "    low_missing_df_v2=df_v2[row_missing<=row_missing.quantile(0.75)]\n",
    "#     # select, re-encode, and engineer column values.\n",
    "    low_missing_df_v2['OST_WEST_KZ']=np.where(low_missing_df_v2.OST_WEST_KZ=='W',1,0)\n",
    "    PRAEGENDE_JUGENDJAHRE_decade=low_missing_df_v2.PRAEGENDE_JUGENDJAHRE.map({1:40,2:40,3:50,4:50,5:60,6:60,7:60,8:70,9:70,10:80,11:80,12:80,13:80,14:90,15:90})\n",
    "    low_missing_df_v2.loc[:,'PRAEGENDE_JUGENDJAHRE_decade']=PRAEGENDE_JUGENDJAHRE_decade\n",
    "    PRAEGENDE_JUGENDJAHRE_East_movement=low_missing_df_v2.PRAEGENDE_JUGENDJAHRE.map({7:1,12:1,13:1})\n",
    "    PRAEGENDE_JUGENDJAHRE_East_movement=PRAEGENDE_JUGENDJAHRE_East_movement.fillna(0)\n",
    "    low_missing_df_v2.loc[:,'PRAEGENDE_JUGENDJAHRE_East_movement']=PRAEGENDE_JUGENDJAHRE_East_movement\n",
    "    # Investigate \"CAMEO_INTL_2015\" and engineer two new variables.\n",
    "    CAMEO_INTL_2015_tens=low_missing_df_v2.CAMEO_INTL_2015.apply(lambda x: int(str(x)[0]) if str(x)!='nan' else 0)\n",
    "    CAMEO_INTL_2015_ones=low_missing_df_v2.CAMEO_INTL_2015.apply(lambda x: int(str(x)[1]) if str(x)!='nan' else 0)\n",
    "    low_missing_df_v2.loc[:,'CAMEO_INTL_2015_tens']=CAMEO_INTL_2015_tens\n",
    "    low_missing_df_v2.loc[:,'CAMEO_INTL_2015_ones']=CAMEO_INTL_2015_ones\n",
    "#     # drop other mixed tiye \n",
    "    low_missing_df_v2=low_missing_df_v2.drop(['LP_LEBENSPHASE_FEIN', 'LP_LEBENSPHASE_GROB','PRAEGENDE_JUGENDJAHRE', 'WOHNLAGE', 'CAMEO_INTL_2015','PLZ8_BAUMAX'],axis=1 )\n",
    "    low_missing_df_v2=low_missing_df_v2.drop(['CAMEO_DEUG_2015','CAMEO_DEU_2015'], axis=1)\n",
    "#     # Return the cleaned dataframe\n",
    "    return low_missing_df_v2\n",
    "\n",
    "\n",
    "\n"
   ]
  },
  {
   "cell_type": "code",
   "execution_count": 66,
   "metadata": {},
   "outputs": [],
   "source": [
    "low_missing_df_v2=clean_data(azdias)\n",
    "low_missing_df_v2.apply(lambda x:pd.isnull(x).value_counts())"
   ]
  },
  {
   "cell_type": "markdown",
   "metadata": {},
   "source": [
    "## Step 2: Feature Transformation\n",
    "\n",
    "### Step 2.1: Apply Feature Scaling\n",
    "\n",
    "Before we apply dimensionality reduction techniques to the data, we need to perform feature scaling so that the principal component vectors are not influenced by the natural differences in scale for features. Starting from this part of the project, you'll want to keep an eye on the [API reference page for sklearn](http://scikit-learn.org/stable/modules/classes.html) to help you navigate to all of the classes and functions that you'll need. In this substep, you'll need to check the following:\n",
    "\n",
    "- sklearn requires that data not have missing values in order for its estimators to work properly. So, before applying the scaler to your data, make sure that you've cleaned the DataFrame of the remaining missing values. This can be as simple as just removing all data points with missing data, or applying an [Imputer](http://scikit-learn.org/stable/modules/generated/sklearn.preprocessing.Imputer.html) to replace all missing values. You might also try a more complicated procedure where you temporarily remove missing values in order to compute the scaling parameters before re-introducing those missing values and applying imputation. Think about how much missing data you have and what possible effects each approach might have on your analysis, and justify your decision in the discussion section below.\n",
    "- For the actual scaling function, a [StandardScaler](http://scikit-learn.org/stable/modules/generated/sklearn.preprocessing.StandardScaler.html) instance is suggested, scaling each feature to mean 0 and standard deviation 1.\n",
    "- For these classes, you can make use of the `.fit_transform()` method to both fit a procedure to the data as well as apply the transformation to the data at the same time. Don't forget to keep the fit sklearn objects handy, since you'll be applying them to the customer demographics data towards the end of the project."
   ]
  },
  {
   "cell_type": "code",
   "execution_count": 10,
   "metadata": {},
   "outputs": [
    {
     "data": {
      "text/html": [
       "<div>\n",
       "<style>\n",
       "    .dataframe thead tr:only-child th {\n",
       "        text-align: right;\n",
       "    }\n",
       "\n",
       "    .dataframe thead th {\n",
       "        text-align: left;\n",
       "    }\n",
       "\n",
       "    .dataframe tbody tr th {\n",
       "        vertical-align: top;\n",
       "    }\n",
       "</style>\n",
       "<table border=\"1\" class=\"dataframe\">\n",
       "  <thead>\n",
       "    <tr style=\"text-align: right;\">\n",
       "      <th></th>\n",
       "      <th>KKK</th>\n",
       "      <th>REGIOTYP</th>\n",
       "      <th>W_KEIT_KIND_HH</th>\n",
       "      <th>KBA05_ANTG3</th>\n",
       "      <th>KBA05_ANTG1</th>\n",
       "      <th>KBA05_ANTG2</th>\n",
       "      <th>KBA05_GBZ</th>\n",
       "      <th>KBA05_ANTG4</th>\n",
       "      <th>MOBI_REGIO</th>\n",
       "      <th>PLZ8_ANTG2</th>\n",
       "      <th>...</th>\n",
       "      <th>SEMIO_KRIT</th>\n",
       "      <th>SEMIO_DOM</th>\n",
       "      <th>SEMIO_KAEM</th>\n",
       "      <th>SEMIO_PFLICHT</th>\n",
       "      <th>SEMIO_TRADV</th>\n",
       "      <th>ZABEOTYP</th>\n",
       "      <th>PRAEGENDE_JUGENDJAHRE_decade</th>\n",
       "      <th>PRAEGENDE_JUGENDJAHRE_East_movement</th>\n",
       "      <th>CAMEO_INTL_2015_tens</th>\n",
       "      <th>CAMEO_INTL_2015_ones</th>\n",
       "    </tr>\n",
       "  </thead>\n",
       "  <tbody>\n",
       "    <tr>\n",
       "      <th>False</th>\n",
       "      <td>625850</td>\n",
       "      <td>625850</td>\n",
       "      <td>625850</td>\n",
       "      <td>625850</td>\n",
       "      <td>625850</td>\n",
       "      <td>625850</td>\n",
       "      <td>625850</td>\n",
       "      <td>625850</td>\n",
       "      <td>625850</td>\n",
       "      <td>625850</td>\n",
       "      <td>...</td>\n",
       "      <td>625850</td>\n",
       "      <td>625850</td>\n",
       "      <td>625850</td>\n",
       "      <td>625850</td>\n",
       "      <td>625850</td>\n",
       "      <td>625850</td>\n",
       "      <td>625850</td>\n",
       "      <td>625850</td>\n",
       "      <td>625850</td>\n",
       "      <td>625850</td>\n",
       "    </tr>\n",
       "  </tbody>\n",
       "</table>\n",
       "<p>1 rows × 75 columns</p>\n",
       "</div>"
      ],
      "text/plain": [
       "          KKK  REGIOTYP  W_KEIT_KIND_HH  KBA05_ANTG3  KBA05_ANTG1  \\\n",
       "False  625850    625850          625850       625850       625850   \n",
       "\n",
       "       KBA05_ANTG2  KBA05_GBZ  KBA05_ANTG4  MOBI_REGIO  PLZ8_ANTG2  \\\n",
       "False       625850     625850       625850      625850      625850   \n",
       "\n",
       "               ...           SEMIO_KRIT  SEMIO_DOM  SEMIO_KAEM  SEMIO_PFLICHT  \\\n",
       "False          ...               625850     625850      625850         625850   \n",
       "\n",
       "       SEMIO_TRADV  ZABEOTYP  PRAEGENDE_JUGENDJAHRE_decade  \\\n",
       "False       625850    625850                        625850   \n",
       "\n",
       "       PRAEGENDE_JUGENDJAHRE_East_movement  CAMEO_INTL_2015_tens  \\\n",
       "False                               625850                625850   \n",
       "\n",
       "       CAMEO_INTL_2015_ones  \n",
       "False                625850  \n",
       "\n",
       "[1 rows x 75 columns]"
      ]
     },
     "execution_count": 10,
     "metadata": {},
     "output_type": "execute_result"
    }
   ],
   "source": [
    "# If you've not yet cleaned the dataset of all NaN values, then investigate and\n",
    "# do that now.\n",
    "modeling_dataset=low_missing_df_v2[low_missing_df_v2.isnull().sum(axis=1)==0]\n",
    "modeling_dataset.apply(lambda x:pd.isnull(x).value_counts())"
   ]
  },
  {
   "cell_type": "code",
   "execution_count": 11,
   "metadata": {},
   "outputs": [],
   "source": [
    "# Apply feature scaling to the general population demographics data.\n",
    "modeling_dataset_ss = StandardScaler().fit_transform(modeling_dataset)"
   ]
  },
  {
   "cell_type": "markdown",
   "metadata": {},
   "source": [
    "### Discussion 2.1: Apply Feature Scaling\n",
    "There are still ~6% of missing data in low_missing_df_v2. To perform feature scaling and PCA, drop all rows that have missing values. Final dataset:modeling_dataset_ss "
   ]
  },
  {
   "cell_type": "markdown",
   "metadata": {},
   "source": [
    "### Step 2.2: Perform Dimensionality Reduction\n",
    "\n",
    "On your scaled data, you are now ready to apply dimensionality reduction techniques.\n",
    "\n",
    "- Use sklearn's [PCA](http://scikit-learn.org/stable/modules/generated/sklearn.decomposition.PCA.html) class to apply principal component analysis on the data, thus finding the vectors of maximal variance in the data. To start, you should not set any parameters (so all components are computed) or set a number of components that is at least half the number of features (so there's enough features to see the general trend in variability).\n",
    "- Check out the ratio of variance explained by each principal component as well as the cumulative variance explained. Try plotting the cumulative or sequential values using matplotlib's [`plot()`](https://matplotlib.org/api/_as_gen/matplotlib.pyplot.plot.html) function. Based on what you find, select a value for the number of transformed features you'll retain for the clustering part of the project.\n",
    "- Once you've made a choice for the number of components to keep, make sure you re-fit a PCA instance to perform the decided-on transformation."
   ]
  },
  {
   "cell_type": "code",
   "execution_count": 12,
   "metadata": {},
   "outputs": [],
   "source": [
    "# Apply PCA to the data.\n",
    "pca = PCA()\n",
    "X_pca = pca.fit_transform(modeling_dataset_ss)"
   ]
  },
  {
   "cell_type": "code",
   "execution_count": 13,
   "metadata": {},
   "outputs": [],
   "source": [
    "# Investigate the variance accounted for by each principal component.\n",
    "def scree_plot(pca):\n",
    "    '''\n",
    "    Creates a scree plot associated with the principal components \n",
    "    \n",
    "    INPUT: pca - the result of instantian of PCA in scikit learn\n",
    "            \n",
    "    OUTPUT:\n",
    "            None\n",
    "    '''\n",
    "    num_components = len(pca.explained_variance_ratio_)\n",
    "    ind = np.arange(num_components)\n",
    "    vals = pca.explained_variance_ratio_\n",
    " \n",
    "    plt.figure(figsize=(10, 6))\n",
    "    ax = plt.subplot(111)\n",
    "    cumvals = np.cumsum(vals)\n",
    "    ax.bar(ind, vals)\n",
    "    ax.plot(ind, cumvals)\n",
    "    for i in range(num_components):\n",
    "        ax.annotate(r\"%s%%\" % ((str(vals[i]*100)[:4])), (ind[i]+0.2, vals[i]), va=\"bottom\", ha=\"center\", fontsize=12)\n",
    " \n",
    "    ax.xaxis.set_tick_params(width=0)\n",
    "    ax.yaxis.set_tick_params(width=2, length=12)\n",
    " \n",
    "    ax.set_xlabel(\"Principal Component\")\n",
    "    ax.set_ylabel(\"Variance Explained (%)\")\n",
    "    plt.title('Explained Variance Per Principal Component')  "
   ]
  },
  {
   "cell_type": "code",
   "execution_count": 14,
   "metadata": {},
   "outputs": [
    {
     "data": {
      "image/png": "[encoded data removed]",
      "text/plain": [
       "<matplotlib.figure.Figure at 0x7f7fc0347240>"
      ]
     },
     "metadata": {
      "needs_background": "light"
     },
     "output_type": "display_data"
    }
   ],
   "source": [
    "#Plot the first component\n",
    "scree_plot(pca)"
   ]
  },
  {
   "cell_type": "code",
   "execution_count": 15,
   "metadata": {},
   "outputs": [],
   "source": [
    "# Re-apply PCA to the data while selecting for number of components to retain.\n",
    "pca_v2 = PCA(27)\n",
    "X_pca_v2 = pca_v2.fit_transform(modeling_dataset_ss)"
   ]
  },
  {
   "cell_type": "code",
   "execution_count": 16,
   "metadata": {},
   "outputs": [
    {
     "data": {
      "image/png": "[encoded data removed]",
      "text/plain": [
       "<matplotlib.figure.Figure at 0x7f7f9f5ba828>"
      ]
     },
     "metadata": {
      "needs_background": "light"
     },
     "output_type": "display_data"
    }
   ],
   "source": [
    "scree_plot(pca_v2)"
   ]
  },
  {
   "cell_type": "markdown",
   "metadata": {},
   "source": [
    "### Discussion 2.2: Perform Dimensionality Reduction\n",
    "\n",
    "I want to keep 80% of the variance in the data. Selected 27 variables with highest eigen values"
   ]
  },
  {
   "cell_type": "markdown",
   "metadata": {},
   "source": [
    "### Step 2.3: Interpret Principal Components\n",
    "\n",
    "Now that we have our transformed principal components, it's a nice idea to check out the weight of each variable on the first few components to see if they can be interpreted in some fashion.\n",
    "\n",
    "As a reminder, each principal component is a unit vector that points in the direction of highest variance (after accounting for the variance captured by earlier principal components). The further a weight is from zero, the more the principal component is in the direction of the corresponding feature. If two features have large weights of the same sign (both positive or both negative), then increases in one tend expect to be associated with increases in the other. To contrast, features with different signs can be expected to show a negative correlation: increases in one variable should result in a decrease in the other.\n",
    "\n",
    "- To investigate the features, you should map each weight to their corresponding feature name, then sort the features according to weight. The most interesting features for each principal component, then, will be those at the beginning and end of the sorted list. Use the data dictionary document to help you understand these most prominent features, their relationships, and what a positive or negative value on the principal component might indicate.\n",
    "- You should investigate and interpret feature associations from the first three principal components in this substep. To help facilitate this, you should write a function that you can call at any time to print the sorted list of feature weights, for the *i*-th principal component. This might come in handy in the next step of the project, when you interpret the tendencies of the discovered clusters."
   ]
  },
  {
   "cell_type": "code",
   "execution_count": 17,
   "metadata": {},
   "outputs": [],
   "source": [
    "# Map weights for the first principal component to corresponding feature names\n",
    "# and then print the linked values, sorted by weight.\n",
    "# HINT: Try defining a function here or in a new cell that you can reuse in the\n",
    "# other cells.\n",
    "def map_comp (nth_comp):\n",
    "    nth_pc=pd.DataFrame(pca_v2.components_[nth_comp-1:nth_comp].tolist(),columns=modeling_dataset.columns)\n",
    "    nth_pc=nth_pc.sort_values(by=0, axis=1,ascending=False)\n",
    "    return nth_pc"
   ]
  },
  {
   "cell_type": "code",
   "execution_count": 18,
   "metadata": {},
   "outputs": [],
   "source": [
    "first_pc=map_comp(1)"
   ]
  },
  {
   "cell_type": "code",
   "execution_count": 19,
   "metadata": {
    "scrolled": true
   },
   "outputs": [
    {
     "data": {
      "text/html": [
       "<div>\n",
       "<style>\n",
       "    .dataframe thead tr:only-child th {\n",
       "        text-align: right;\n",
       "    }\n",
       "\n",
       "    .dataframe thead th {\n",
       "        text-align: left;\n",
       "    }\n",
       "\n",
       "    .dataframe tbody tr th {\n",
       "        vertical-align: top;\n",
       "    }\n",
       "</style>\n",
       "<table border=\"1\" class=\"dataframe\">\n",
       "  <thead>\n",
       "    <tr style=\"text-align: right;\">\n",
       "      <th></th>\n",
       "      <th>PLZ8_ANTG3</th>\n",
       "      <th>PLZ8_ANTG4</th>\n",
       "      <th>HH_EINKOMMEN_SCORE</th>\n",
       "      <th>CAMEO_INTL_2015_tens</th>\n",
       "      <th>ORTSGR_KLS9</th>\n",
       "      <th>EWDICHTE</th>\n",
       "      <th>FINANZ_HAUSBAUER</th>\n",
       "      <th>FINANZ_SPARER</th>\n",
       "      <th>ZABEOTYP</th>\n",
       "      <th>KBA05_ANTG4</th>\n",
       "      <th>...</th>\n",
       "      <th>INNENSTADT</th>\n",
       "      <th>KONSUMNAEHE</th>\n",
       "      <th>PLZ8_GBZ</th>\n",
       "      <th>KBA05_GBZ</th>\n",
       "      <th>PLZ8_ANTG1</th>\n",
       "      <th>KBA05_ANTG1</th>\n",
       "      <th>FINANZ_MINIMALIST</th>\n",
       "      <th>LP_STATUS_FEIN</th>\n",
       "      <th>LP_STATUS_GROB</th>\n",
       "      <th>MOBI_REGIO</th>\n",
       "    </tr>\n",
       "  </thead>\n",
       "  <tbody>\n",
       "    <tr>\n",
       "      <th>0</th>\n",
       "      <td>0.198316</td>\n",
       "      <td>0.191918</td>\n",
       "      <td>0.191494</td>\n",
       "      <td>0.184218</td>\n",
       "      <td>0.170021</td>\n",
       "      <td>0.167425</td>\n",
       "      <td>0.149533</td>\n",
       "      <td>0.148089</td>\n",
       "      <td>0.138392</td>\n",
       "      <td>0.137795</td>\n",
       "      <td>...</td>\n",
       "      <td>-0.141339</td>\n",
       "      <td>-0.145143</td>\n",
       "      <td>-0.148541</td>\n",
       "      <td>-0.198747</td>\n",
       "      <td>-0.199421</td>\n",
       "      <td>-0.209422</td>\n",
       "      <td>-0.216333</td>\n",
       "      <td>-0.22215</td>\n",
       "      <td>-0.222297</td>\n",
       "      <td>-0.222707</td>\n",
       "    </tr>\n",
       "  </tbody>\n",
       "</table>\n",
       "<p>1 rows × 75 columns</p>\n",
       "</div>"
      ],
      "text/plain": [
       "   PLZ8_ANTG3  PLZ8_ANTG4  HH_EINKOMMEN_SCORE  CAMEO_INTL_2015_tens  \\\n",
       "0    0.198316    0.191918            0.191494              0.184218   \n",
       "\n",
       "   ORTSGR_KLS9  EWDICHTE  FINANZ_HAUSBAUER  FINANZ_SPARER  ZABEOTYP  \\\n",
       "0     0.170021  0.167425          0.149533       0.148089  0.138392   \n",
       "\n",
       "   KBA05_ANTG4     ...      INNENSTADT  KONSUMNAEHE  PLZ8_GBZ  KBA05_GBZ  \\\n",
       "0     0.137795     ...       -0.141339    -0.145143 -0.148541  -0.198747   \n",
       "\n",
       "   PLZ8_ANTG1  KBA05_ANTG1  FINANZ_MINIMALIST  LP_STATUS_FEIN  LP_STATUS_GROB  \\\n",
       "0   -0.199421    -0.209422          -0.216333        -0.22215       -0.222297   \n",
       "\n",
       "   MOBI_REGIO  \n",
       "0   -0.222707  \n",
       "\n",
       "[1 rows x 75 columns]"
      ]
     },
     "execution_count": 19,
     "metadata": {},
     "output_type": "execute_result"
    }
   ],
   "source": [
    "first_pc"
   ]
  },
  {
   "cell_type": "code",
   "execution_count": 20,
   "metadata": {},
   "outputs": [
    {
     "data": {
      "text/html": [
       "<div>\n",
       "<style>\n",
       "    .dataframe thead tr:only-child th {\n",
       "        text-align: right;\n",
       "    }\n",
       "\n",
       "    .dataframe thead th {\n",
       "        text-align: left;\n",
       "    }\n",
       "\n",
       "    .dataframe tbody tr th {\n",
       "        vertical-align: top;\n",
       "    }\n",
       "</style>\n",
       "<table border=\"1\" class=\"dataframe\">\n",
       "  <thead>\n",
       "    <tr style=\"text-align: right;\">\n",
       "      <th></th>\n",
       "      <th>ALTERSKATEGORIE_GROB</th>\n",
       "      <th>SEMIO_ERL</th>\n",
       "      <th>FINANZ_VORSORGER</th>\n",
       "      <th>SEMIO_LUST</th>\n",
       "      <th>RETOURTYP_BK_S</th>\n",
       "      <th>W_KEIT_KIND_HH</th>\n",
       "      <th>FINANZ_HAUSBAUER</th>\n",
       "      <th>SEMIO_KRIT</th>\n",
       "      <th>SHOPPER_TYP</th>\n",
       "      <th>SEMIO_KAEM</th>\n",
       "      <th>...</th>\n",
       "      <th>ONLINE_AFFINITAET</th>\n",
       "      <th>SEMIO_FAM</th>\n",
       "      <th>FINANZ_ANLEGER</th>\n",
       "      <th>SEMIO_KULT</th>\n",
       "      <th>FINANZ_UNAUFFAELLIGER</th>\n",
       "      <th>SEMIO_TRADV</th>\n",
       "      <th>FINANZ_SPARER</th>\n",
       "      <th>SEMIO_PFLICHT</th>\n",
       "      <th>PRAEGENDE_JUGENDJAHRE_decade</th>\n",
       "      <th>SEMIO_REL</th>\n",
       "    </tr>\n",
       "  </thead>\n",
       "  <tbody>\n",
       "    <tr>\n",
       "      <th>0</th>\n",
       "      <td>0.246906</td>\n",
       "      <td>0.220697</td>\n",
       "      <td>0.214868</td>\n",
       "      <td>0.169813</td>\n",
       "      <td>0.161027</td>\n",
       "      <td>0.126045</td>\n",
       "      <td>0.118753</td>\n",
       "      <td>0.116925</td>\n",
       "      <td>0.104639</td>\n",
       "      <td>0.104041</td>\n",
       "      <td>...</td>\n",
       "      <td>-0.166622</td>\n",
       "      <td>-0.16757</td>\n",
       "      <td>-0.194108</td>\n",
       "      <td>-0.206592</td>\n",
       "      <td>-0.21793</td>\n",
       "      <td>-0.21864</td>\n",
       "      <td>-0.22141</td>\n",
       "      <td>-0.226245</td>\n",
       "      <td>-0.238618</td>\n",
       "      <td>-0.249772</td>\n",
       "    </tr>\n",
       "  </tbody>\n",
       "</table>\n",
       "<p>1 rows × 75 columns</p>\n",
       "</div>"
      ],
      "text/plain": [
       "   ALTERSKATEGORIE_GROB  SEMIO_ERL  FINANZ_VORSORGER  SEMIO_LUST  \\\n",
       "0              0.246906   0.220697          0.214868    0.169813   \n",
       "\n",
       "   RETOURTYP_BK_S  W_KEIT_KIND_HH  FINANZ_HAUSBAUER  SEMIO_KRIT  SHOPPER_TYP  \\\n",
       "0        0.161027        0.126045          0.118753    0.116925     0.104639   \n",
       "\n",
       "   SEMIO_KAEM    ...      ONLINE_AFFINITAET  SEMIO_FAM  FINANZ_ANLEGER  \\\n",
       "0    0.104041    ...              -0.166622   -0.16757       -0.194108   \n",
       "\n",
       "   SEMIO_KULT  FINANZ_UNAUFFAELLIGER  SEMIO_TRADV  FINANZ_SPARER  \\\n",
       "0   -0.206592               -0.21793     -0.21864       -0.22141   \n",
       "\n",
       "   SEMIO_PFLICHT  PRAEGENDE_JUGENDJAHRE_decade  SEMIO_REL  \n",
       "0      -0.226245                     -0.238618  -0.249772  \n",
       "\n",
       "[1 rows x 75 columns]"
      ]
     },
     "execution_count": 20,
     "metadata": {},
     "output_type": "execute_result"
    }
   ],
   "source": [
    "# Map weights for the second principal component to corresponding feature names\n",
    "# and then print the linked values, sorted by weight.\n",
    "second_pc=map_comp(2)\n",
    "second_pc"
   ]
  },
  {
   "cell_type": "code",
   "execution_count": 21,
   "metadata": {},
   "outputs": [
    {
     "data": {
      "text/html": [
       "<div>\n",
       "<style>\n",
       "    .dataframe thead tr:only-child th {\n",
       "        text-align: right;\n",
       "    }\n",
       "\n",
       "    .dataframe thead th {\n",
       "        text-align: left;\n",
       "    }\n",
       "\n",
       "    .dataframe tbody tr th {\n",
       "        vertical-align: top;\n",
       "    }\n",
       "</style>\n",
       "<table border=\"1\" class=\"dataframe\">\n",
       "  <thead>\n",
       "    <tr style=\"text-align: right;\">\n",
       "      <th></th>\n",
       "      <th>SEMIO_VERT</th>\n",
       "      <th>SEMIO_SOZ</th>\n",
       "      <th>SEMIO_FAM</th>\n",
       "      <th>SEMIO_KULT</th>\n",
       "      <th>FINANZ_MINIMALIST</th>\n",
       "      <th>FINANZTYP</th>\n",
       "      <th>RETOURTYP_BK_S</th>\n",
       "      <th>W_KEIT_KIND_HH</th>\n",
       "      <th>SEMIO_REL</th>\n",
       "      <th>FINANZ_VORSORGER</th>\n",
       "      <th>...</th>\n",
       "      <th>FINANZ_UNAUFFAELLIGER</th>\n",
       "      <th>PRAEGENDE_JUGENDJAHRE_decade</th>\n",
       "      <th>SHOPPER_TYP</th>\n",
       "      <th>FINANZ_ANLEGER</th>\n",
       "      <th>SEMIO_ERL</th>\n",
       "      <th>SEMIO_RAT</th>\n",
       "      <th>SEMIO_KRIT</th>\n",
       "      <th>SEMIO_DOM</th>\n",
       "      <th>SEMIO_KAEM</th>\n",
       "      <th>ANREDE_KZ</th>\n",
       "    </tr>\n",
       "  </thead>\n",
       "  <tbody>\n",
       "    <tr>\n",
       "      <th>0</th>\n",
       "      <td>0.339554</td>\n",
       "      <td>0.260133</td>\n",
       "      <td>0.25471</td>\n",
       "      <td>0.236344</td>\n",
       "      <td>0.146395</td>\n",
       "      <td>0.11263</td>\n",
       "      <td>0.110377</td>\n",
       "      <td>0.096909</td>\n",
       "      <td>0.087783</td>\n",
       "      <td>0.085911</td>\n",
       "      <td>...</td>\n",
       "      <td>-0.089624</td>\n",
       "      <td>-0.096979</td>\n",
       "      <td>-0.132968</td>\n",
       "      <td>-0.174236</td>\n",
       "      <td>-0.177342</td>\n",
       "      <td>-0.205958</td>\n",
       "      <td>-0.264772</td>\n",
       "      <td>-0.308413</td>\n",
       "      <td>-0.333252</td>\n",
       "      <td>-0.363114</td>\n",
       "    </tr>\n",
       "  </tbody>\n",
       "</table>\n",
       "<p>1 rows × 75 columns</p>\n",
       "</div>"
      ],
      "text/plain": [
       "   SEMIO_VERT  SEMIO_SOZ  SEMIO_FAM  SEMIO_KULT  FINANZ_MINIMALIST  FINANZTYP  \\\n",
       "0    0.339554   0.260133    0.25471    0.236344           0.146395    0.11263   \n",
       "\n",
       "   RETOURTYP_BK_S  W_KEIT_KIND_HH  SEMIO_REL  FINANZ_VORSORGER    ...      \\\n",
       "0        0.110377        0.096909   0.087783          0.085911    ...       \n",
       "\n",
       "   FINANZ_UNAUFFAELLIGER  PRAEGENDE_JUGENDJAHRE_decade  SHOPPER_TYP  \\\n",
       "0              -0.089624                     -0.096979    -0.132968   \n",
       "\n",
       "   FINANZ_ANLEGER  SEMIO_ERL  SEMIO_RAT  SEMIO_KRIT  SEMIO_DOM  SEMIO_KAEM  \\\n",
       "0       -0.174236  -0.177342  -0.205958   -0.264772  -0.308413   -0.333252   \n",
       "\n",
       "   ANREDE_KZ  \n",
       "0  -0.363114  \n",
       "\n",
       "[1 rows x 75 columns]"
      ]
     },
     "execution_count": 21,
     "metadata": {},
     "output_type": "execute_result"
    }
   ],
   "source": [
    "# Map weights for the third principal component to corresponding feature names\n",
    "# and then print the linked values, sorted by weight.\n",
    "third_pc=map_comp(3)\n",
    "third_pc"
   ]
  },
  {
   "cell_type": "markdown",
   "metadata": {},
   "source": [
    "### Discussion 2.3: Interpret Principal Components\n",
    "Yes, in this way, we can see many features are highly corrected in principle component space. \n",
    "For an example, feature PLZ8_ANTG3 and PLZ8_ANTG4 have highest 2 positive weights in first principle component direction. "
   ]
  },
  {
   "cell_type": "markdown",
   "metadata": {},
   "source": [
    "## Step 3: Clustering\n",
    "\n",
    "### Step 3.1: Apply Clustering to General Population\n",
    "\n",
    "You've assessed and cleaned the demographics data, then scaled and transformed them. Now, it's time to see how the data clusters in the principal components space. In this substep, you will apply k-means clustering to the dataset and use the average within-cluster distances from each point to their assigned cluster's centroid to decide on a number of clusters to keep.\n",
    "\n",
    "- Use sklearn's [KMeans](http://scikit-learn.org/stable/modules/generated/sklearn.cluster.KMeans.html#sklearn.cluster.KMeans) class to perform k-means clustering on the PCA-transformed data.\n",
    "- Then, compute the average difference from each point to its assigned cluster's center. **Hint**: The KMeans object's `.score()` method might be useful here, but note that in sklearn, scores tend to be defined so that larger is better. Try applying it to a small, toy dataset, or use an internet search to help your understanding.\n",
    "- Perform the above two steps for a number of different cluster counts. You can then see how the average distance decreases with an increasing number of clusters. However, each additional cluster provides a smaller net benefit. Use this fact to select a final number of clusters in which to group the data. **Warning**: because of the large size of the dataset, it can take a long time for the algorithm to resolve. The more clusters to fit, the longer the algorithm will take. You should test for cluster counts through at least 10 clusters to get the full picture, but you shouldn't need to test for a number of clusters above about 30.\n",
    "- Once you've selected a final number of clusters to use, re-fit a KMeans instance to perform the clustering operation. Make sure that you also obtain the cluster assignments for the general demographics data, since you'll be using them in the final Step 3.3."
   ]
  },
  {
   "cell_type": "code",
   "execution_count": 22,
   "metadata": {},
   "outputs": [
    {
     "data": {
      "text/plain": [
       "-27412499.89567418"
      ]
     },
     "execution_count": 22,
     "metadata": {},
     "output_type": "execute_result"
    }
   ],
   "source": [
    "# Over a number of different cluster counts...\n",
    "# run k-means clustering on the data and...\n",
    "kmeans_4 = KMeans(n_clusters=4) #instantiate your model\n",
    "model_4 = kmeans_4.fit(X_pca_v2) #fit the model to your data using kmeans_4\n",
    "labels_4 = model_4.predict(X_pca_v2) #predict labels using model_4 on your dataset\n",
    "# compute the average within-cluster distances.\n",
    "kmeans_4.score(X_pca_v2)"
   ]
  },
  {
   "cell_type": "code",
   "execution_count": 47,
   "metadata": {},
   "outputs": [],
   "source": [
    "# Investigate the change in within-cluster distance across number of clusters.\n",
    "# HINT: Use matplotlib's plot function to visualize this relationship.\n",
    "X_pca_v2_mini=X_pca_v2[:300000]\n",
    "n=[]\n",
    "dist=[]\n",
    "for i in range(1,13):\n",
    "    n.append(i)\n",
    "    kmeans= KMeans(n_clusters=i) \n",
    "    model= kmeans.fit(X_pca_v2_mini)\n",
    "    dist.append(kmeans.score(X_pca_v2_mini))    "
   ]
  },
  {
   "cell_type": "code",
   "execution_count": 48,
   "metadata": {},
   "outputs": [
    {
     "data": {
      "text/plain": [
       "<Container object of 12 artists>"
      ]
     },
     "execution_count": 48,
     "metadata": {},
     "output_type": "execute_result"
    },
    {
     "data": {
      "image/png": "[encoded data removed]",
      "text/plain": [
       "<matplotlib.figure.Figure at 0x7f49a9fc86d8>"
      ]
     },
     "metadata": {
      "needs_background": "light"
     },
     "output_type": "display_data"
    }
   ],
   "source": [
    "plt.bar(n,np.abs(dist))"
   ]
  },
  {
   "cell_type": "code",
   "execution_count": 23,
   "metadata": {},
   "outputs": [],
   "source": [
    "# Re-fit the k-means model with the selected number of clusters and obtain\n",
    "# cluster predictions for the general population demographics data.\n",
    "kmeans_9 = KMeans(n_clusters=9) #instantiate your model\n",
    "model_9 = kmeans_9.fit(X_pca_v2) #fit the model to your data using kmeans_4\n",
    "labels_9 = model_9.predict(X_pca_v2) #predict labels using model_4 on your dataset\n",
    "# compute the average within-cluster distances."
   ]
  },
  {
   "cell_type": "markdown",
   "metadata": {},
   "source": [
    "### Discussion 3.1: Apply Clustering to General Population\n",
    "Based on the plot (n_clusters -- average distance), the larget marginal decrease on average distance seems happens on when n_cluster =9. Therefore, select n=9 to cluster the population  "
   ]
  },
  {
   "cell_type": "markdown",
   "metadata": {},
   "source": [
    "### Step 3.2: Apply All Steps to the Customer Data\n",
    "\n",
    "Now that you have clusters and cluster centers for the general population, it's time to see how the customer data maps on to those clusters. Take care to not confuse this for re-fitting all of the models to the customer data. Instead, you're going to use the fits from the general population to clean, transform, and cluster the customer data. In the last step of the project, you will interpret how the general population fits apply to the customer data.\n",
    "\n",
    "- Don't forget when loading in the customers data, that it is semicolon (`;`) delimited.\n",
    "- Apply the same feature wrangling, selection, and engineering steps to the customer demographics using the `clean_data()` function you created earlier. (You can assume that the customer demographics data has similar meaning behind missing data patterns as the general demographics data.)\n",
    "- Use the sklearn objects from the general demographics data, and apply their transformations to the customers data. That is, you should not be using a `.fit()` or `.fit_transform()` method to re-fit the old objects, nor should you be creating new sklearn objects! Carry the data through the feature scaling, PCA, and clustering steps, obtaining cluster assignments for all of the data in the customer demographics data."
   ]
  },
  {
   "cell_type": "code",
   "execution_count": 24,
   "metadata": {},
   "outputs": [],
   "source": [
    "# Load in the customer demographics data.\n",
    "customers = pd.read_csv('Udacity_CUSTOMERS_Subset.csv',sep=';')"
   ]
  },
  {
   "cell_type": "code",
   "execution_count": 65,
   "metadata": {},
   "outputs": [],
   "source": [
    "# Apply preprocessing, feature transformation, and clustering from the general\n",
    "# demographics onto the customer data, obtaining cluster predictions for the\n",
    "# customer demographics data.\n",
    "low_missing_customers=clean_data(customers)\n",
    "low_missing_customers=low_missing_customers[low_missing_customers.isnull().sum(axis=1)==0]\n",
    "low_missing_customers_ss = StandardScaler().fit_transform(low_missing_customers)\n",
    "low_missing_customers_ss_scale=StandardScaler().fit(low_missing_customers)\n",
    "X_customers_pca_v2 = pca_v2.fit_transform(low_missing_customers_ss)"
   ]
  },
  {
   "cell_type": "code",
   "execution_count": 38,
   "metadata": {},
   "outputs": [],
   "source": [
    "customer_labels_by_model_9 = model_9.predict(X_customers_pca_v2)"
   ]
  },
  {
   "cell_type": "code",
   "execution_count": 39,
   "metadata": {},
   "outputs": [
    {
     "data": {
      "text/plain": [
       "(115818, 27)"
      ]
     },
     "execution_count": 39,
     "metadata": {},
     "output_type": "execute_result"
    }
   ],
   "source": [
    "X_customers_pca_v2.shape"
   ]
  },
  {
   "cell_type": "code",
   "execution_count": 40,
   "metadata": {},
   "outputs": [
    {
     "data": {
      "text/plain": [
       "(115818,)"
      ]
     },
     "execution_count": 40,
     "metadata": {},
     "output_type": "execute_result"
    }
   ],
   "source": [
    "customer_labels_by_model_9.shape"
   ]
  },
  {
   "cell_type": "markdown",
   "metadata": {},
   "source": [
    "### Step 3.3: Compare Customer Data to Demographics Data\n",
    "\n",
    "At this point, you have clustered data based on demographics of the general population of Germany, and seen how the customer data for a mail-order sales company maps onto those demographic clusters. In this final substep, you will compare the two cluster distributions to see where the strongest customer base for the company is.\n",
    "\n",
    "Consider the proportion of persons in each cluster for the general population, and the proportions for the customers. If we think the company's customer base to be universal, then the cluster assignment proportions should be fairly similar between the two. If there are only particular segments of the population that are interested in the company's products, then we should see a mismatch from one to the other. If there is a higher proportion of persons in a cluster for the customer data compared to the general population (e.g. 5% of persons are assigned to a cluster for the general population, but 15% of the customer data is closest to that cluster's centroid) then that suggests the people in that cluster to be a target audience for the company. On the other hand, the proportion of the data in a cluster being larger in the general population than the customer data (e.g. only 2% of customers closest to a population centroid that captures 6% of the data) suggests that group of persons to be outside of the target demographics.\n",
    "\n",
    "Take a look at the following points in this step:\n",
    "\n",
    "- Compute the proportion of data points in each cluster for the general population and the customer data. Visualizations will be useful here: both for the individual dataset proportions, but also to visualize the ratios in cluster representation between groups. Seaborn's [`countplot()`](https://seaborn.pydata.org/generated/seaborn.countplot.html) or [`barplot()`](https://seaborn.pydata.org/generated/seaborn.barplot.html) function could be handy.\n",
    "  - Recall the analysis you performed in step 1.1.3 of the project, where you separated out certain data points from the dataset if they had more than a specified threshold of missing values. If you found that this group was qualitatively different from the main bulk of the data, you should treat this as an additional data cluster in this analysis. Make sure that you account for the number of data points in this subset, for both the general population and customer datasets, when making your computations!\n",
    "- Which cluster or clusters are overrepresented in the customer dataset compared to the general population? Select at least one such cluster and infer what kind of people might be represented by that cluster. Use the principal component interpretations from step 2.3 or look at additional components to help you make this inference. Alternatively, you can use the `.inverse_transform()` method of the PCA and StandardScaler objects to transform centroids back to the original data space and interpret the retrieved values directly.\n",
    "- Perform a similar investigation for the underrepresented clusters. Which cluster or clusters are underrepresented in the customer dataset compared to the general population, and what kinds of people are typified by these clusters?"
   ]
  },
  {
   "cell_type": "code",
   "execution_count": 41,
   "metadata": {},
   "outputs": [
    {
     "data": {
      "text/plain": [
       "Text(0.5,1,'customer data')"
      ]
     },
     "execution_count": 41,
     "metadata": {},
     "output_type": "execute_result"
    },
    {
     "data": {
      "image/png": "[encoded data removed]",
      "text/plain": [
       "<matplotlib.figure.Figure at 0x7f7fa8a684a8>"
      ]
     },
     "metadata": {},
     "output_type": "display_data"
    }
   ],
   "source": [
    "# Compare the proportion of data in each cluster for the customer data to the\n",
    "# proportion of data in each cluster for the general population.\n",
    "\n",
    "sns.set(style=\"darkgrid\")\n",
    "plt.subplot(121)\n",
    "ax1=sns.distplot(labels_9,kde=False, rug=False)\n",
    "ax1.set_title('general population')\n",
    "plt.subplot(122,sharex=ax1)\n",
    "ax2=sns.distplot(customer_labels_by_model_9,kde=False, rug=False)\n",
    "ax2.set_title('customer data')"
   ]
  },
  {
   "cell_type": "code",
   "execution_count": 45,
   "metadata": {},
   "outputs": [],
   "source": [
    "# What kinds of people are part of a cluster that is overrepresented in the\n",
    "# customer data compared to the general population?\n",
    "\n",
    "# cluster 6 in customer data is overrepresented\n",
    "customer_cluster_6=X_customers_pca_v2[customer_labels_by_model_9==6]\n",
    "customer_cluster_6_inverse_pca=pca_v2.inverse_transform(customer_cluster_6)\n",
    "customer_cluster_6_inverse_pca_inverse_scaler=low_missing_customers_ss_scale.inverse_transform(customer_cluster_6_inverse_pca)\n",
    "segment6=pd.DataFrame(customer_cluster_6_inverse_pca_inverse_scaler, columns=low_missing_customers.columns)\n"
   ]
  },
  {
   "cell_type": "code",
   "execution_count": 60,
   "metadata": {},
   "outputs": [
    {
     "data": {
      "text/html": [
       "<div>\n",
       "<style>\n",
       "    .dataframe thead tr:only-child th {\n",
       "        text-align: right;\n",
       "    }\n",
       "\n",
       "    .dataframe thead th {\n",
       "        text-align: left;\n",
       "    }\n",
       "\n",
       "    .dataframe tbody tr th {\n",
       "        vertical-align: top;\n",
       "    }\n",
       "</style>\n",
       "<table border=\"1\" class=\"dataframe\">\n",
       "  <thead>\n",
       "    <tr style=\"text-align: right;\">\n",
       "      <th></th>\n",
       "      <th>PLZ8_ANTG3</th>\n",
       "      <th>PLZ8_ANTG4</th>\n",
       "      <th>ALTERSKATEGORIE_GROB</th>\n",
       "      <th>SEMIO_ERL</th>\n",
       "    </tr>\n",
       "  </thead>\n",
       "  <tbody>\n",
       "    <tr>\n",
       "      <th>count</th>\n",
       "      <td>16510.000000</td>\n",
       "      <td>16510.000000</td>\n",
       "      <td>16510.000000</td>\n",
       "      <td>16510.000000</td>\n",
       "    </tr>\n",
       "    <tr>\n",
       "      <th>mean</th>\n",
       "      <td>1.235714</td>\n",
       "      <td>0.420956</td>\n",
       "      <td>3.893022</td>\n",
       "      <td>4.135367</td>\n",
       "    </tr>\n",
       "    <tr>\n",
       "      <th>std</th>\n",
       "      <td>0.555482</td>\n",
       "      <td>0.348271</td>\n",
       "      <td>0.369804</td>\n",
       "      <td>1.012693</td>\n",
       "    </tr>\n",
       "    <tr>\n",
       "      <th>min</th>\n",
       "      <td>-0.166809</td>\n",
       "      <td>-0.456178</td>\n",
       "      <td>2.542987</td>\n",
       "      <td>2.051803</td>\n",
       "    </tr>\n",
       "    <tr>\n",
       "      <th>25%</th>\n",
       "      <td>0.813963</td>\n",
       "      <td>0.156117</td>\n",
       "      <td>3.747065</td>\n",
       "      <td>3.454099</td>\n",
       "    </tr>\n",
       "    <tr>\n",
       "      <th>50%</th>\n",
       "      <td>1.193479</td>\n",
       "      <td>0.387694</td>\n",
       "      <td>3.945076</td>\n",
       "      <td>3.882656</td>\n",
       "    </tr>\n",
       "    <tr>\n",
       "      <th>75%</th>\n",
       "      <td>1.683474</td>\n",
       "      <td>0.701152</td>\n",
       "      <td>4.149122</td>\n",
       "      <td>4.724176</td>\n",
       "    </tr>\n",
       "    <tr>\n",
       "      <th>max</th>\n",
       "      <td>3.277394</td>\n",
       "      <td>1.776670</td>\n",
       "      <td>4.637924</td>\n",
       "      <td>7.183681</td>\n",
       "    </tr>\n",
       "  </tbody>\n",
       "</table>\n",
       "</div>"
      ],
      "text/plain": [
       "         PLZ8_ANTG3    PLZ8_ANTG4  ALTERSKATEGORIE_GROB     SEMIO_ERL\n",
       "count  16510.000000  16510.000000          16510.000000  16510.000000\n",
       "mean       1.235714      0.420956              3.893022      4.135367\n",
       "std        0.555482      0.348271              0.369804      1.012693\n",
       "min       -0.166809     -0.456178              2.542987      2.051803\n",
       "25%        0.813963      0.156117              3.747065      3.454099\n",
       "50%        1.193479      0.387694              3.945076      3.882656\n",
       "75%        1.683474      0.701152              4.149122      4.724176\n",
       "max        3.277394      1.776670              4.637924      7.183681"
      ]
     },
     "execution_count": 60,
     "metadata": {},
     "output_type": "execute_result"
    }
   ],
   "source": [
    "#compare top 2 features in 1st and 2nd principle components(from step2.3) between population and customer data\n",
    "segment6[['PLZ8_ANTG3','PLZ8_ANTG4','ALTERSKATEGORIE_GROB','SEMIO_ERL']].describe()"
   ]
  },
  {
   "cell_type": "code",
   "execution_count": 61,
   "metadata": {},
   "outputs": [
    {
     "data": {
      "text/html": [
       "<div>\n",
       "<style>\n",
       "    .dataframe thead tr:only-child th {\n",
       "        text-align: right;\n",
       "    }\n",
       "\n",
       "    .dataframe thead th {\n",
       "        text-align: left;\n",
       "    }\n",
       "\n",
       "    .dataframe tbody tr th {\n",
       "        vertical-align: top;\n",
       "    }\n",
       "</style>\n",
       "<table border=\"1\" class=\"dataframe\">\n",
       "  <thead>\n",
       "    <tr style=\"text-align: right;\">\n",
       "      <th></th>\n",
       "      <th>PLZ8_ANTG3</th>\n",
       "      <th>PLZ8_ANTG4</th>\n",
       "      <th>ALTERSKATEGORIE_GROB</th>\n",
       "      <th>SEMIO_ERL</th>\n",
       "    </tr>\n",
       "  </thead>\n",
       "  <tbody>\n",
       "    <tr>\n",
       "      <th>count</th>\n",
       "      <td>625850.000000</td>\n",
       "      <td>625850.000000</td>\n",
       "      <td>625850.00000</td>\n",
       "      <td>625850.000000</td>\n",
       "    </tr>\n",
       "    <tr>\n",
       "      <th>mean</th>\n",
       "      <td>1.630645</td>\n",
       "      <td>0.717939</td>\n",
       "      <td>2.79269</td>\n",
       "      <td>4.572522</td>\n",
       "    </tr>\n",
       "    <tr>\n",
       "      <th>std</th>\n",
       "      <td>0.984796</td>\n",
       "      <td>0.731777</td>\n",
       "      <td>1.02642</td>\n",
       "      <td>1.827269</td>\n",
       "    </tr>\n",
       "    <tr>\n",
       "      <th>min</th>\n",
       "      <td>0.000000</td>\n",
       "      <td>0.000000</td>\n",
       "      <td>1.00000</td>\n",
       "      <td>1.000000</td>\n",
       "    </tr>\n",
       "    <tr>\n",
       "      <th>25%</th>\n",
       "      <td>1.000000</td>\n",
       "      <td>0.000000</td>\n",
       "      <td>2.00000</td>\n",
       "      <td>3.000000</td>\n",
       "    </tr>\n",
       "    <tr>\n",
       "      <th>50%</th>\n",
       "      <td>2.000000</td>\n",
       "      <td>1.000000</td>\n",
       "      <td>3.00000</td>\n",
       "      <td>4.000000</td>\n",
       "    </tr>\n",
       "    <tr>\n",
       "      <th>75%</th>\n",
       "      <td>2.000000</td>\n",
       "      <td>1.000000</td>\n",
       "      <td>4.00000</td>\n",
       "      <td>6.000000</td>\n",
       "    </tr>\n",
       "    <tr>\n",
       "      <th>max</th>\n",
       "      <td>3.000000</td>\n",
       "      <td>2.000000</td>\n",
       "      <td>4.00000</td>\n",
       "      <td>7.000000</td>\n",
       "    </tr>\n",
       "  </tbody>\n",
       "</table>\n",
       "</div>"
      ],
      "text/plain": [
       "          PLZ8_ANTG3     PLZ8_ANTG4  ALTERSKATEGORIE_GROB      SEMIO_ERL\n",
       "count  625850.000000  625850.000000          625850.00000  625850.000000\n",
       "mean        1.630645       0.717939               2.79269       4.572522\n",
       "std         0.984796       0.731777               1.02642       1.827269\n",
       "min         0.000000       0.000000               1.00000       1.000000\n",
       "25%         1.000000       0.000000               2.00000       3.000000\n",
       "50%         2.000000       1.000000               3.00000       4.000000\n",
       "75%         2.000000       1.000000               4.00000       6.000000\n",
       "max         3.000000       2.000000               4.00000       7.000000"
      ]
     },
     "execution_count": 61,
     "metadata": {},
     "output_type": "execute_result"
    }
   ],
   "source": [
    "modeling_dataset[['PLZ8_ANTG3','PLZ8_ANTG4','ALTERSKATEGORIE_GROB','SEMIO_ERL']].describe()"
   ]
  },
  {
   "cell_type": "markdown",
   "metadata": {},
   "source": [
    "##### finding \n",
    "customer with lower PLZ8_ANTG3, PLZ8_ANTG4, SEMIO_ERL and higher ALTERSKATEGORIE_GROB comparing with general population are more likely be interested in the mail-order company\n"
   ]
  },
  {
   "cell_type": "code",
   "execution_count": 62,
   "metadata": {},
   "outputs": [],
   "source": [
    "# What kinds of people are part of a cluster that is underrepresented in the\n",
    "# customer data compared to the general population?\n",
    "\n",
    "# cluster 5 in customer data is underrepresented\n",
    "customer_cluster_5=X_customers_pca_v2[customer_labels_by_model_9==5]\n",
    "customer_cluster_5_inverse_pca=pca_v2.inverse_transform(customer_cluster_5)\n",
    "customer_cluster_5_inverse_pca_inverse_scaler=low_missing_customers_ss_scale.inverse_transform(customer_cluster_5_inverse_pca)\n",
    "segment5=pd.DataFrame(customer_cluster_5_inverse_pca_inverse_scaler, columns=low_missing_customers.columns)\n"
   ]
  },
  {
   "cell_type": "code",
   "execution_count": 63,
   "metadata": {},
   "outputs": [
    {
     "data": {
      "text/html": [
       "<div>\n",
       "<style>\n",
       "    .dataframe thead tr:only-child th {\n",
       "        text-align: right;\n",
       "    }\n",
       "\n",
       "    .dataframe thead th {\n",
       "        text-align: left;\n",
       "    }\n",
       "\n",
       "    .dataframe tbody tr th {\n",
       "        vertical-align: top;\n",
       "    }\n",
       "</style>\n",
       "<table border=\"1\" class=\"dataframe\">\n",
       "  <thead>\n",
       "    <tr style=\"text-align: right;\">\n",
       "      <th></th>\n",
       "      <th>PLZ8_ANTG3</th>\n",
       "      <th>PLZ8_ANTG4</th>\n",
       "      <th>ALTERSKATEGORIE_GROB</th>\n",
       "      <th>SEMIO_ERL</th>\n",
       "    </tr>\n",
       "  </thead>\n",
       "  <tbody>\n",
       "    <tr>\n",
       "      <th>count</th>\n",
       "      <td>9586.000000</td>\n",
       "      <td>9586.000000</td>\n",
       "      <td>9586.000000</td>\n",
       "      <td>9586.000000</td>\n",
       "    </tr>\n",
       "    <tr>\n",
       "      <th>mean</th>\n",
       "      <td>1.672187</td>\n",
       "      <td>0.692219</td>\n",
       "      <td>2.567779</td>\n",
       "      <td>3.986491</td>\n",
       "    </tr>\n",
       "    <tr>\n",
       "      <th>std</th>\n",
       "      <td>0.721523</td>\n",
       "      <td>0.520387</td>\n",
       "      <td>0.735141</td>\n",
       "      <td>1.233490</td>\n",
       "    </tr>\n",
       "    <tr>\n",
       "      <th>min</th>\n",
       "      <td>-0.349106</td>\n",
       "      <td>-0.516195</td>\n",
       "      <td>0.873407</td>\n",
       "      <td>-0.188802</td>\n",
       "    </tr>\n",
       "    <tr>\n",
       "      <th>25%</th>\n",
       "      <td>1.135996</td>\n",
       "      <td>0.302398</td>\n",
       "      <td>1.858411</td>\n",
       "      <td>3.480933</td>\n",
       "    </tr>\n",
       "    <tr>\n",
       "      <th>50%</th>\n",
       "      <td>1.709909</td>\n",
       "      <td>0.673769</td>\n",
       "      <td>2.787152</td>\n",
       "      <td>4.050572</td>\n",
       "    </tr>\n",
       "    <tr>\n",
       "      <th>75%</th>\n",
       "      <td>2.113030</td>\n",
       "      <td>0.967399</td>\n",
       "      <td>3.082430</td>\n",
       "      <td>4.632226</td>\n",
       "    </tr>\n",
       "    <tr>\n",
       "      <th>max</th>\n",
       "      <td>3.497422</td>\n",
       "      <td>2.222275</td>\n",
       "      <td>4.367256</td>\n",
       "      <td>7.730383</td>\n",
       "    </tr>\n",
       "  </tbody>\n",
       "</table>\n",
       "</div>"
      ],
      "text/plain": [
       "        PLZ8_ANTG3   PLZ8_ANTG4  ALTERSKATEGORIE_GROB    SEMIO_ERL\n",
       "count  9586.000000  9586.000000           9586.000000  9586.000000\n",
       "mean      1.672187     0.692219              2.567779     3.986491\n",
       "std       0.721523     0.520387              0.735141     1.233490\n",
       "min      -0.349106    -0.516195              0.873407    -0.188802\n",
       "25%       1.135996     0.302398              1.858411     3.480933\n",
       "50%       1.709909     0.673769              2.787152     4.050572\n",
       "75%       2.113030     0.967399              3.082430     4.632226\n",
       "max       3.497422     2.222275              4.367256     7.730383"
      ]
     },
     "execution_count": 63,
     "metadata": {},
     "output_type": "execute_result"
    }
   ],
   "source": [
    "#compare top 2 features in 1st and 2nd principle components(from step2.3) between population and customer data\n",
    "segment5[['PLZ8_ANTG3','PLZ8_ANTG4','ALTERSKATEGORIE_GROB','SEMIO_ERL']].describe()"
   ]
  },
  {
   "cell_type": "code",
   "execution_count": 64,
   "metadata": {},
   "outputs": [
    {
     "data": {
      "text/html": [
       "<div>\n",
       "<style>\n",
       "    .dataframe thead tr:only-child th {\n",
       "        text-align: right;\n",
       "    }\n",
       "\n",
       "    .dataframe thead th {\n",
       "        text-align: left;\n",
       "    }\n",
       "\n",
       "    .dataframe tbody tr th {\n",
       "        vertical-align: top;\n",
       "    }\n",
       "</style>\n",
       "<table border=\"1\" class=\"dataframe\">\n",
       "  <thead>\n",
       "    <tr style=\"text-align: right;\">\n",
       "      <th></th>\n",
       "      <th>PLZ8_ANTG3</th>\n",
       "      <th>PLZ8_ANTG4</th>\n",
       "      <th>ALTERSKATEGORIE_GROB</th>\n",
       "      <th>SEMIO_ERL</th>\n",
       "    </tr>\n",
       "  </thead>\n",
       "  <tbody>\n",
       "    <tr>\n",
       "      <th>count</th>\n",
       "      <td>625850.000000</td>\n",
       "      <td>625850.000000</td>\n",
       "      <td>625850.00000</td>\n",
       "      <td>625850.000000</td>\n",
       "    </tr>\n",
       "    <tr>\n",
       "      <th>mean</th>\n",
       "      <td>1.630645</td>\n",
       "      <td>0.717939</td>\n",
       "      <td>2.79269</td>\n",
       "      <td>4.572522</td>\n",
       "    </tr>\n",
       "    <tr>\n",
       "      <th>std</th>\n",
       "      <td>0.984796</td>\n",
       "      <td>0.731777</td>\n",
       "      <td>1.02642</td>\n",
       "      <td>1.827269</td>\n",
       "    </tr>\n",
       "    <tr>\n",
       "      <th>min</th>\n",
       "      <td>0.000000</td>\n",
       "      <td>0.000000</td>\n",
       "      <td>1.00000</td>\n",
       "      <td>1.000000</td>\n",
       "    </tr>\n",
       "    <tr>\n",
       "      <th>25%</th>\n",
       "      <td>1.000000</td>\n",
       "      <td>0.000000</td>\n",
       "      <td>2.00000</td>\n",
       "      <td>3.000000</td>\n",
       "    </tr>\n",
       "    <tr>\n",
       "      <th>50%</th>\n",
       "      <td>2.000000</td>\n",
       "      <td>1.000000</td>\n",
       "      <td>3.00000</td>\n",
       "      <td>4.000000</td>\n",
       "    </tr>\n",
       "    <tr>\n",
       "      <th>75%</th>\n",
       "      <td>2.000000</td>\n",
       "      <td>1.000000</td>\n",
       "      <td>4.00000</td>\n",
       "      <td>6.000000</td>\n",
       "    </tr>\n",
       "    <tr>\n",
       "      <th>max</th>\n",
       "      <td>3.000000</td>\n",
       "      <td>2.000000</td>\n",
       "      <td>4.00000</td>\n",
       "      <td>7.000000</td>\n",
       "    </tr>\n",
       "  </tbody>\n",
       "</table>\n",
       "</div>"
      ],
      "text/plain": [
       "          PLZ8_ANTG3     PLZ8_ANTG4  ALTERSKATEGORIE_GROB      SEMIO_ERL\n",
       "count  625850.000000  625850.000000          625850.00000  625850.000000\n",
       "mean        1.630645       0.717939               2.79269       4.572522\n",
       "std         0.984796       0.731777               1.02642       1.827269\n",
       "min         0.000000       0.000000               1.00000       1.000000\n",
       "25%         1.000000       0.000000               2.00000       3.000000\n",
       "50%         2.000000       1.000000               3.00000       4.000000\n",
       "75%         2.000000       1.000000               4.00000       6.000000\n",
       "max         3.000000       2.000000               4.00000       7.000000"
      ]
     },
     "execution_count": 64,
     "metadata": {},
     "output_type": "execute_result"
    }
   ],
   "source": [
    "modeling_dataset[['PLZ8_ANTG3','PLZ8_ANTG4','ALTERSKATEGORIE_GROB','SEMIO_ERL']].describe()"
   ]
  },
  {
   "cell_type": "markdown",
   "metadata": {},
   "source": [
    "##### finding \n",
    "customers that have PLZ8_ANTG3, PLZ8_ANTG4, ALTERSKATEGORIE_GROB close to general population \n",
    "and SEMIO_ERL lower than general population are less likely be interested in the mail-order company\n"
   ]
  },
  {
   "cell_type": "markdown",
   "metadata": {},
   "source": [
    "### Discussion 3.3: Compare Customer Data to Demographics Data\n",
    "ALTERSKATEGORIE_GROB is positively correlated to the interest of the mail-order company. Customers with higher ALTERSKATEGORIE_GROB comparing to general population are more likely to be interested in the company. \n",
    "\n",
    "PLZ8_ANTG3 and PLZ8_ANTG4 are negatively correlated to the interest of the mail-order company. Customers with higher PLZ8_ANTG3 and PLZ8_ANTG4 comparing to general population are less likely to be interested in the company. "
   ]
  },
  {
   "cell_type": "markdown",
   "metadata": {},
   "source": [
    "> Congratulations on making it this far in the project! Before you finish, make sure to check through the entire notebook from top to bottom to make sure that your analysis follows a logical flow and all of your findings are documented in **Discussion** cells. Once you've checked over all of your work, you should export the notebook as an HTML document to submit for evaluation. You can do this from the menu, navigating to **File -> Download as -> HTML (.html)**. You will submit both that document and this notebook for your project submission."
   ]
  }
 ],
 "metadata": {
  "kernelspec": {
   "display_name": "Python 3",
   "language": "python",
   "name": "python3"
  },
  "language_info": {
   "codemirror_mode": {
    "name": "ipython",
    "version": 3
   },
   "file_extension": ".py",
   "mimetype": "text/x-python",
   "name": "python",
   "nbconvert_exporter": "python",
   "pygments_lexer": "ipython3",
   "version": "3.6.3"
  }
 },
 "nbformat": 4,
 "nbformat_minor": 2
}
